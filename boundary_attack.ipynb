{
 "cells": [
  {
   "cell_type": "code",
   "execution_count": 1,
   "metadata": {},
   "outputs": [],
   "source": [
    "import torch \n",
    "from torch import nn, optim\n",
    "import torchvision \n",
    "from torchvision import datasets, transforms\n",
    "from torch.utils.data import DataLoader\n",
    "import matplotlib.pyplot as plt \n",
    "import math \n",
    "import numpy as np\n",
    "from PIL import Image\n",
    "import cv2\n",
    "from tqdm.notebook import tqdm \n",
    "from functools import partial"
   ]
  },
  {
   "cell_type": "code",
   "execution_count": 2,
   "metadata": {},
   "outputs": [],
   "source": [
    "class DigitRecognizer(nn.Module):\n",
    "    def __init__(self, input_size, hidden_layers, num_classes):\n",
    "        super(DigitRecognizer, self).__init__()\n",
    "        self.input = nn.Linear(input_size, hidden_sizes[0])\n",
    "        self.relu_0 = nn.ReLU()\n",
    "        self.hidden1 = nn.Linear(hidden_sizes[0], hidden_sizes[1])\n",
    "        self.relu_1 = nn.ReLU()\n",
    "        self.output = nn.Linear(hidden_sizes[1], num_classes)\n",
    "        \n",
    "    def forward(self, X):\n",
    "        model = self.input(X)\n",
    "        model = self.relu_0(model)\n",
    "        model = self.hidden1(model)\n",
    "        model = self.relu_1(model)\n",
    "        model = self.output(model)\n",
    "        return model "
   ]
  },
  {
   "cell_type": "code",
   "execution_count": 3,
   "metadata": {
    "scrolled": true
   },
   "outputs": [],
   "source": [
    "batch_size = 50\n",
    "#transform = transforms.Compose([transforms.ToTensor(),transforms.Normalize((0.5,), (0.5,)),])\n",
    "transform = transforms.Compose([transforms.ToTensor()])\n",
    "train_data = datasets.MNIST('./', download=True, train=True, transform=transform)\n",
    "test_data = datasets.MNIST('./', download=True, train=False, transform=transform)\n",
    "train_loader = DataLoader(train_data, batch_size=batch_size, shuffle=True, num_workers=2)\n",
    "test_loader = DataLoader(test_data, batch_size=batch_size, shuffle=False , num_workers=2)"
   ]
  },
  {
   "cell_type": "code",
   "execution_count": 4,
   "metadata": {},
   "outputs": [
    {
     "data": {
      "text/plain": [
       "DigitRecognizer(\n",
       "  (input): Linear(in_features=784, out_features=128, bias=True)\n",
       "  (relu_0): ReLU()\n",
       "  (hidden1): Linear(in_features=128, out_features=64, bias=True)\n",
       "  (relu_1): ReLU()\n",
       "  (output): Linear(in_features=64, out_features=10, bias=True)\n",
       ")"
      ]
     },
     "execution_count": 4,
     "metadata": {},
     "output_type": "execute_result"
    }
   ],
   "source": [
    "model = torch.load('digit_classifier.pt')\n",
    "model.eval()"
   ]
  },
  {
   "cell_type": "code",
   "execution_count": 76,
   "metadata": {},
   "outputs": [],
   "source": [
    "epsilon_upper = 0 \n",
    "def eval_model(model, images):\n",
    "    images = images.astype(np.float32)\n",
    "    images = torch.from_numpy(images)\n",
    "    images = images.reshape(-1, 784)\n",
    "    outputs = model(images) \n",
    "    _, test_predicted = torch.max(outputs.data,1)\n",
    "    return test_predicted.item()\n",
    "\n",
    "def is_adversarial(oracle, target_class, image): \n",
    "    if oracle(image) != target_class: \n",
    "        return True \n",
    "    return False\n",
    "\n",
    "def initial_adversarial(target_, advesarial_criterion):\n",
    "    while True: \n",
    "        random_pertubation = np.random.uniform(0,1,size = (28,28)).astype(np.float32)\n",
    "        if advesarial_criterion(random_pertubation): \n",
    "            return random_pertubation\n",
    "    \n",
    "def step_towards(target_, pertubation, epsilon):\n",
    "    pertubation -= ((pertubation - target_) * epsilon)\n",
    "    return pertubation\n",
    "    \n",
    "def orthogonal_pertubation(target_, pertubation, delta): \n",
    "    # iid random normal \n",
    "    new_pertubation = np.random.normal(0,1,size=(28,28))\n",
    "    new_pertubation /= np.linalg.norm(new_pertubation)\n",
    "    # || n_k||^2 = delta * dist(previous_adversarial, original_image), condition 2 \n",
    "    new_pertubation *= delta * np.linalg.norm(pertubation - target_)\n",
    "    new_pertubation += pertubation\n",
    "    # condition 1\n",
    "    new_pertubation = new_pertubation.clip(0,1)\n",
    "    #projecting onto sphere \n",
    "    new_pertubation -= target_\n",
    "    new_pertubation /= np.linalg.norm(new_pertubation)\n",
    "    new_pertubation *= np.linalg.norm(pertubation - target_)\n",
    "    new_pertubation += target_\n",
    "    return new_pertubation\n",
    "    \n",
    "def adaptive_delta_descent(is_adversarial_fn, side_step_fn, adversarial_img): \n",
    "    lower_delta =1\n",
    "    upper_delta = 0\n",
    "    delta = -1\n",
    "    while True: \n",
    "        delta = (lower_delta + upper_delta)/2\n",
    "        random_side_steps = [side_step_fn(adversarial_img, delta) \\\n",
    "                 for i in range(10)]\n",
    "        adversarial_indices = [is_adversarial_fn(x) for x in random_side_steps]\n",
    "        average = np.mean(adversarial_indices)\n",
    "        if abs(average - .5) <= .05 or delta == 1: # can no longer converge\n",
    "            break\n",
    "        elif delta == 0: # cannot step anywhere that is not adversarial\n",
    "            return None      \n",
    "        elif average > .55:\n",
    "            upper_delta = delta #increasing delta \n",
    "        else:  # average < .45\n",
    "            lower_delta = delta # decreasing delta\n",
    "    indices = np.where(np.array(adversarial_indices) == True)[0]\n",
    "    return np.array(random_side_steps)[indices]\n",
    "    \n",
    "def adaptive_epsilon_descent(target, is_adversarial_fn, adversarial_img): \n",
    "    global epsilon_upper\n",
    "    epsilon_lower = 1\n",
    "    epsilon_upper = 0\n",
    "    epsilon = (epsilon_lower + epsilon_upper)/2\n",
    "    while epsilon_upper == 0 or abs(epsilon - epsilon_upper) > .0001: \n",
    "        epsilon = (epsilon_lower + epsilon_upper)/2\n",
    "        new_pertubation = adversarial_img - ((adversarial_img - target) * epsilon)\n",
    "        if is_adversarial_fn(new_pertubation):\n",
    "            epsilon_upper = epsilon\n",
    "        else: \n",
    "            epsilon_lower = epsilon\n",
    "    #print(f'{epsilon_upper = }')\n",
    "    new_pertubation = adversarial_img - ((adversarial_img - target) * epsilon_upper)\n",
    "    return new_pertubation\n",
    "    \n",
    "def minimum_distance_img(target, imgs):\n",
    "    min_ = float('inf')\n",
    "    index = 0\n",
    "    for step, x in enumerate(imgs): \n",
    "        dist = np.linalg.norm(x - target)\n",
    "        if dist < min_: \n",
    "            min_ = dist\n",
    "            index = step\n",
    "    return imgs[index], min_\n",
    "            \n",
    "def boundary_attack(model, oracle, target_, target_class, k):\n",
    "    global epsilon_upper\n",
    "    #create partials so to avoid passing in same parameters every time \n",
    "    # step_towards_(pertubation, epsilon)\n",
    "    step_towards_= partial(step_towards, target_) \n",
    "    # oracle_(images)\n",
    "    oracle_ = partial(oracle, model) \n",
    "    #is_adversarial_(image)\n",
    "    is_adversarial_ = partial(is_adversarial, oracle_, target_class) \n",
    "    #orthogonal_pertubation_(pertubation, delta)\n",
    "    orthogonal_pertubation_ = partial(orthogonal_pertubation, target_)\n",
    "    #adaptive_epsilon_descent_(pertubation)\n",
    "    adaptive_epsilon_descent_ = partial(adaptive_epsilon_descent, target_, is_adversarial_)\n",
    "    #adaptive_delta_descent_(pertubation)\n",
    "    adaptive_delta_descent_ = partial(adaptive_delta_descent, is_adversarial_, \\\n",
    "                                      orthogonal_pertubation_)\n",
    "    #min_dist_img_(images)\n",
    "    min_dist_img_ = partial(minimum_distance_img, target_ )\n",
    "    # initial adversarial\n",
    "    adversarial_img = initial_adversarial(target_, oracle_)\n",
    "    \n",
    "    plt.imshow(adversarial_img, cmap=\"gray\")\n",
    "    plt.show()\n",
    "    \n",
    "    # initial descent\n",
    "    adversarial_img = adaptive_epsilon_descent_(adversarial_img)\n",
    "    \n",
    "    plt.imshow(adversarial_img, cmap=\"gray\")\n",
    "    plt.show()\n",
    "\n",
    "    for i in tqdm(range(k)): \n",
    "        #orthogonal step\n",
    "        temp_adversarial_imgs  = adaptive_delta_descent_(adversarial_img)\n",
    "        if temp_adversarial_imgs is None:  # point of convergence\n",
    "            continue\n",
    "            print('continuing \\n')\n",
    "        # downwards step \n",
    "        temp_adversarial_imgs = np.array([adaptive_epsilon_descent_(x) for\\\n",
    "                                          x in temp_adversarial_imgs], dtype = np.float64)\n",
    "       # print('\\n')\n",
    "        temp_adversarial_imgs1 = [x for x in temp_adversarial_imgs if is_adversarial_(x)]\n",
    "        if temp_adversarial_imgs1: # if list is not empty \n",
    "            adversarial_img, min_ = min_dist_img_(temp_adversarial_imgs1)\n",
    "            print(f'{min_=} \\n')\n",
    "            \n",
    "    plt.imshow(adversarial_img, cmap=\"gray\")\n",
    "    plt.show()\n",
    "    return adversarial_img\n",
    "    "
   ]
  },
  {
   "cell_type": "code",
   "execution_count": 79,
   "metadata": {},
   "outputs": [],
   "source": [
    "def return_target_img(class_num, num): \n",
    "    temp = []\n",
    "    for a, b in train_data: \n",
    "        if b == class_num: \n",
    "            temp.append(a)\n",
    "        if len(temp)==num: \n",
    "            return temp \n",
    "        "
   ]
  },
  {
   "cell_type": "code",
   "execution_count": 84,
   "metadata": {},
   "outputs": [],
   "source": [
    "target = return_target_img(9, 2)[1]"
   ]
  },
  {
   "cell_type": "code",
   "execution_count": 85,
   "metadata": {},
   "outputs": [
    {
     "data": {
      "image/png": "[encoded data removed]",
      "text/plain": [
       "<Figure size 432x288 with 1 Axes>"
      ]
     },
     "metadata": {
      "needs_background": "light"
     },
     "output_type": "display_data"
    },
    {
     "name": "stdout",
     "output_type": "stream",
     "text": [
      "target_class=9\n"
     ]
    }
   ],
   "source": [
    "%matplotlib inline \n",
    "target = target.numpy().reshape((28,28))\n",
    "target = target.astype(np.float32)\n",
    "plt.imshow(target, cmap=\"gray\")\n",
    "plt.show()\n",
    "target_class = eval_model(model, target)\n",
    "print(f'{target_class=}')"
   ]
  },
  {
   "cell_type": "code",
   "execution_count": 86,
   "metadata": {
    "scrolled": false
   },
   "outputs": [
    {
     "data": {
      "image/png": "[encoded data removed]",
      "text/plain": [
       "<Figure size 432x288 with 1 Axes>"
      ]
     },
     "metadata": {
      "needs_background": "light"
     },
     "output_type": "display_data"
    },
    {
     "data": {
      "image/png": "[encoded data removed]",
      "text/plain": [
       "<Figure size 432x288 with 1 Axes>"
      ]
     },
     "metadata": {
      "needs_background": "light"
     },
     "output_type": "display_data"
    },
    {
     "data": {
      "application/vnd.jupyter.widget-view+json": {
       "model_id": "4602dd8c97ff47b196b5bfb0a5828fd6",
       "version_major": 2,
       "version_minor": 0
      },
      "text/plain": [
       "  0%|          | 0/1000 [00:00<?, ?it/s]"
      ]
     },
     "metadata": {},
     "output_type": "display_data"
    },
    {
     "data": {
      "image/png": "[encoded data removed]",
      "text/plain": [
       "<Figure size 432x288 with 1 Axes>"
      ]
     },
     "metadata": {
      "needs_background": "light"
     },
     "output_type": "display_data"
    }
   ],
   "source": [
    "final = boundary_attack(model, eval_model, target, target_class, 1000)"
   ]
  },
  {
   "cell_type": "code",
   "execution_count": 87,
   "metadata": {},
   "outputs": [
    {
     "data": {
      "image/png": "[encoded data removed]",
      "text/plain": [
       "<Figure size 432x288 with 1 Axes>"
      ]
     },
     "metadata": {
      "needs_background": "light"
     },
     "output_type": "display_data"
    },
    {
     "name": "stdout",
     "output_type": "stream",
     "text": [
      "Image class: 9\n"
     ]
    },
    {
     "data": {
      "image/png": "[encoded data removed]",
      "text/plain": [
       "<Figure size 432x288 with 1 Axes>"
      ]
     },
     "metadata": {
      "needs_background": "light"
     },
     "output_type": "display_data"
    },
    {
     "name": "stdout",
     "output_type": "stream",
     "text": [
      "Adversarial class: 3 \n",
      "\n"
     ]
    },
    {
     "data": {
      "image/png": "[encoded data removed]",
      "text/plain": [
       "<Figure size 432x288 with 1 Axes>"
      ]
     },
     "metadata": {
      "needs_background": "light"
     },
     "output_type": "display_data"
    },
    {
     "name": "stdout",
     "output_type": "stream",
     "text": [
      "L2 norm between images: 19.611824542902685\n"
     ]
    }
   ],
   "source": [
    "%matplotlib inline \n",
    "\n",
    "plt.imshow(target, cmap=\"gray\")\n",
    "plt.show()\n",
    "print(f'Image class: {eval_model(model, target)}')\n",
    "\n",
    " \n",
    "plt.imshow(final, cmap=\"gray\")\n",
    "plt.show()\n",
    "print(f'Adversarial class: {eval_model(model, final)} \\n')\n",
    "\n",
    "\n",
    "plt.imshow(final - target, cmap=\"gray\")\n",
    "plt.show()\n",
    "print(f'L2 norm between images: {np.linalg.norm(final -  target) }')\n"
   ]
  }
 ],
 "metadata": {
  "accelerator": "GPU",
  "colab": {
   "collapsed_sections": [],
   "name": "Hello_World.ipynb",
   "provenance": []
  },
  "kernelspec": {
   "display_name": "Python 3 (ipykernel)",
   "language": "python",
   "name": "python3"
  },
  "language_info": {
   "codemirror_mode": {
    "name": "ipython",
    "version": 3
   },
   "file_extension": ".py",
   "mimetype": "text/x-python",
   "name": "python",
   "nbconvert_exporter": "python",
   "pygments_lexer": "ipython3",
   "version": "3.9.9"
  }
 },
 "nbformat": 4,
 "nbformat_minor": 1
}
