{
 "cells": [
  {
   "cell_type": "code",
   "execution_count": 1,
   "metadata": {},
   "outputs": [],
   "source": [
    "import torch \n",
    "from torch import nn, optim\n",
    "import torchvision \n",
    "from torchvision import datasets, transforms\n",
    "from torch.utils.data import DataLoader\n",
    "import matplotlib.pyplot as plt \n",
    "import math \n",
    "import numpy as np\n",
    "from PIL import Image\n",
    "import cv2\n",
    "from tqdm.notebook import tqdm \n",
    "from functools import partial"
   ]
  },
  {
   "cell_type": "code",
   "execution_count": 2,
   "metadata": {},
   "outputs": [],
   "source": [
    "class DigitRecognizer(nn.Module):\n",
    "    def __init__(self, input_size, hidden_layers, num_classes):\n",
    "        super(DigitRecognizer, self).__init__()\n",
    "        self.input = nn.Linear(input_size, hidden_sizes[0])\n",
    "        self.relu_0 = nn.ReLU()\n",
    "        self.hidden1 = nn.Linear(hidden_sizes[0], hidden_sizes[1])\n",
    "        self.relu_1 = nn.ReLU()\n",
    "        self.output = nn.Linear(hidden_sizes[1], num_classes)\n",
    "        \n",
    "    def forward(self, X):\n",
    "        model = self.input(X)\n",
    "        model = self.relu_0(model)\n",
    "        model = self.hidden1(model)\n",
    "        model = self.relu_1(model)\n",
    "        model = self.output(model)\n",
    "        return model "
   ]
  },
  {
   "cell_type": "code",
   "execution_count": 34,
   "metadata": {
    "scrolled": true
   },
   "outputs": [],
   "source": [
    "batch_size = 50\n",
    "transform = transforms.Compose([transforms.ToTensor()])\n",
    "train_data = datasets.MNIST('./', download=True, train=True, transform=transform)\n",
    "test_data = datasets.MNIST('./', download=True, train=False, transform=transform)\n",
    "train_loader = DataLoader(train_data, batch_size=batch_size, shuffle=True, num_workers=2)\n",
    "test_loader = DataLoader(test_data, batch_size=batch_size, shuffle=False , num_workers=2)"
   ]
  },
  {
   "cell_type": "code",
   "execution_count": 4,
   "metadata": {},
   "outputs": [
    {
     "data": {
      "text/plain": [
       "DigitRecognizer(\n",
       "  (input): Linear(in_features=784, out_features=128, bias=True)\n",
       "  (relu_0): ReLU()\n",
       "  (hidden1): Linear(in_features=128, out_features=64, bias=True)\n",
       "  (relu_1): ReLU()\n",
       "  (output): Linear(in_features=64, out_features=10, bias=True)\n",
       ")"
      ]
     },
     "execution_count": 4,
     "metadata": {},
     "output_type": "execute_result"
    }
   ],
   "source": [
    "model = torch.load('digit_classifier.pt')\n",
    "model.eval()"
   ]
  },
  {
   "cell_type": "code",
   "execution_count": 601,
   "metadata": {},
   "outputs": [],
   "source": [
    "epsilon_upper= 0\n",
    "\n",
    "def eval_model(model, images):\n",
    "    images = images.astype(np.float32)\n",
    "    images = torch.from_numpy(images)\n",
    "    images = images.reshape(-1, 784)\n",
    "    outputs = model(images) \n",
    "    _, test_predicted = torch.max(outputs.data,1)\n",
    "    return test_predicted.item()\n",
    "\n",
    "def is_adversarial(oracle, target_class, image): \n",
    "    if oracle(image) != target_class: \n",
    "        return True \n",
    "    return False\n",
    "\n",
    "def initial_adversarial(target_, advesarial_criterion):\n",
    "    while True: \n",
    "        random_pertubation = np.random.uniform(0, 1,size = (28,28))\n",
    "        if advesarial_criterion(random_pertubation): \n",
    "            return random_pertubation\n",
    "    \n",
    "def step_towards(target_, pertubation, epsilon):\n",
    "    pertubation -= ((pertubation - target_) * epsilon)\n",
    "    return pertubation\n",
    "    \n",
    "def orthogonal_pertubation(target_, pertubation, delta): \n",
    "    # iid random normal \n",
    "    new_pertubation = np.random.normal(0,1,size=(28,28))\n",
    "    new_pertubation /= np.linalg.norm(new_pertubation)\n",
    "    # || n_k||^2 = delta * dist(previous_adversarial, original_image), condition 2 \n",
    "    new_pertubation *= delta * np.linalg.norm(pertubation - target_)\n",
    "    new_pertubation += pertubation\n",
    "    # condition 1\n",
    "    new_pertubation = new_pertubation.clip(0,1)\n",
    "    #projecting onto sphere \n",
    "    new_pertubation -= target_\n",
    "    new_pertubation /= np.linalg.norm(new_pertubation)\n",
    "    new_pertubation *= np.linalg.norm(pertubation - target_)\n",
    "    new_pertubation += target_\n",
    "    return new_pertubation\n",
    "    \n",
    "def adaptive_delta_descent(is_adversarial_fn, side_step_fn, adversarial_img): \n",
    "    lower_delta, upper_delta = 1,0\n",
    "    delta = -1\n",
    "    while abs(delta - upper_delta) > .01: \n",
    "        delta = (lower_delta + upper_delta)/2\n",
    "        percent_adversarial = \\\n",
    "        np.mean([is_adversarial_fn( side_step_fn(adversarial_img, delta) )\\\n",
    "                 for i in range(10)])\n",
    "        if percent_adversarial >= .5:\n",
    "            lower_delta = delta #increasing delta \n",
    "        else: \n",
    "            upper_delta = delta # decreasing delta\n",
    "    return delta\n",
    "    \n",
    "def adaptive_epsilon_descent(target, is_adversarial_fn, adversarial_img): \n",
    "    global epsilon_upper\n",
    "    epsilon_lower = 1\n",
    "    epsilon_upper = 0\n",
    "    epsilon = (epsilon_lower + epsilon_upper)/2\n",
    "    while abs(epsilon - epsilon_lower) > .01 or abs(epsilon - epsilon_upper) > .01: \n",
    "        epsilon = (epsilon_lower + epsilon_upper)/2\n",
    "        new_pertubation = adversarial_img - ((adversarial_img - target) * epsilon)\n",
    "        if is_adversarial_fn(new_pertubation):\n",
    "            epsilon_upper = epsilon\n",
    "        else: \n",
    "            epsilon_lower = epsilon\n",
    "            \n",
    "    new_pertubation = adversarial_img - ((adversarial_img - target) * epsilon_upper)\n",
    "    return new_pertubation\n",
    "    \n",
    "    \n",
    "def boundary_attack(model, oracle, target_, target_class, k):\n",
    "    global epsilon_upper\n",
    "    #create partials so to avoid passing in same parameters every time \n",
    "    # step_towards_(pertubation, epsilon)\n",
    "    step_towards_= partial(step_towards, target_) \n",
    "    # oracle_(images)\n",
    "    oracle_ = partial(oracle, model) \n",
    "    #is_adversarial_(image)\n",
    "    is_adversarial_ = partial(is_adversarial, oracle_, target_class) \n",
    "    #orthogonal_pertubation_(pertubation, delta)\n",
    "    orthogonal_pertubation_ = partial(orthogonal_pertubation, target_)\n",
    "    #adaptive_epsilon_descent_(pertubation)\n",
    "    adaptive_epsilon_descent_ = partial(adaptive_epsilon_descent, target_, is_adversarial_)\n",
    "    #adaptive_delta_descent_(pertubation)\n",
    "    adaptive_delta_descent_ = partial(adaptive_delta_descent, is_adversarial_, \\\n",
    "                                      orthogonal_pertubation_)\n",
    "    \n",
    "    # initial adversarial\n",
    "    adversarial_img = initial_adversarial(target_, oracle_)\n",
    "    #return adversarial_img\n",
    "    adversarial_img = adaptive_epsilon_descent_(adversarial_img)#descent(adversarial_img,target_ )\n",
    "\n",
    "\n",
    "    count = 0\n",
    "    for i in tqdm(range(k)): \n",
    "        delta = adaptive_delta_descent_(adversarial_img)\n",
    "        temp_adversarial_img = orthogonal_pertubation_(adversarial_img, delta)\n",
    "        adversarial_img = adaptive_epsilon_descent_(adversarial_img)\n",
    "        if is_adversarial_(temp_adversarial_img): \n",
    "            adversarial_img = temp_adversarial_img\n",
    "            print(f'{epsilon_upper=}')\n",
    "            count += 1\n",
    "    return adversarial_img\n",
    "    "
   ]
  },
  {
   "cell_type": "code",
   "execution_count": 576,
   "metadata": {},
   "outputs": [],
   "source": [
    "def return_target_img(class_num, num): \n",
    "    temp = []\n",
    "    for a, b in train_data: \n",
    "        if b == class_num: \n",
    "            temp.append(a)\n",
    "        if len(temp)==num: \n",
    "            return temp \n",
    "        "
   ]
  },
  {
   "cell_type": "code",
   "execution_count": 603,
   "metadata": {},
   "outputs": [],
   "source": [
    "target = return_target_img(8, 1)[0]"
   ]
  },
  {
   "cell_type": "code",
   "execution_count": 604,
   "metadata": {},
   "outputs": [
    {
     "data": {
      "image/png": "[encoded data removed]",
      "text/plain": [
       "<Figure size 432x288 with 1 Axes>"
      ]
     },
     "metadata": {
      "needs_background": "light"
     },
     "output_type": "display_data"
    },
    {
     "name": "stdout",
     "output_type": "stream",
     "text": [
      "target_class=8\n"
     ]
    }
   ],
   "source": [
    "%matplotlib inline \n",
    "target = target.numpy().reshape((28,28))\n",
    "target = target.astype(np.float32)\n",
    "plt.imshow(target, cmap=\"gray\")\n",
    "plt.show()\n",
    "target_class = eval_model(model, target)\n",
    "print(f'{target_class=}')"
   ]
  },
  {
   "cell_type": "code",
   "execution_count": 605,
   "metadata": {},
   "outputs": [
    {
     "data": {
      "application/vnd.jupyter.widget-view+json": {
       "model_id": "24bd44f0702749fa8d2efcbdb17b9d78",
       "version_major": 2,
       "version_minor": 0
      },
      "text/plain": [
       "  0%|          | 0/100 [00:00<?, ?it/s]"
      ]
     },
     "metadata": {},
     "output_type": "display_data"
    },
    {
     "name": "stdout",
     "output_type": "stream",
     "text": [
      "epsilon_upper=0.078125\n",
      "epsilon_upper=0.0703125\n",
      "epsilon_upper=0.078125\n",
      "epsilon_upper=0.078125\n",
      "epsilon_upper=0.0703125\n",
      "epsilon_upper=0.0078125\n",
      "epsilon_upper=0.0390625\n",
      "epsilon_upper=0.0078125\n",
      "epsilon_upper=0.0078125\n",
      "epsilon_upper=0.0234375\n",
      "epsilon_upper=0.03125\n",
      "epsilon_upper=0.03125\n",
      "epsilon_upper=0.1875\n",
      "epsilon_upper=0.1875\n",
      "epsilon_upper=0.1875\n",
      "epsilon_upper=0.1953125\n",
      "epsilon_upper=0.1953125\n",
      "epsilon_upper=0.203125\n",
      "epsilon_upper=0.1953125\n",
      "epsilon_upper=0.1953125\n",
      "epsilon_upper=0.203125\n",
      "epsilon_upper=0.1953125\n",
      "epsilon_upper=0.1953125\n",
      "epsilon_upper=0.1953125\n",
      "epsilon_upper=0.1875\n",
      "epsilon_upper=0.1875\n",
      "epsilon_upper=0.1875\n",
      "epsilon_upper=0.1875\n",
      "epsilon_upper=0.1875\n",
      "epsilon_upper=0.1875\n",
      "epsilon_upper=0.1953125\n",
      "epsilon_upper=0.1953125\n",
      "epsilon_upper=0.1953125\n",
      "epsilon_upper=0.1875\n",
      "epsilon_upper=0.1875\n",
      "epsilon_upper=0.1875\n",
      "epsilon_upper=0.1875\n",
      "epsilon_upper=0.1953125\n",
      "epsilon_upper=0.1953125\n",
      "epsilon_upper=0.1953125\n",
      "epsilon_upper=0.1953125\n",
      "epsilon_upper=0.1875\n",
      "epsilon_upper=0.1875\n",
      "epsilon_upper=0.1875\n",
      "epsilon_upper=0.1875\n",
      "epsilon_upper=0.1875\n",
      "epsilon_upper=0.1875\n",
      "epsilon_upper=0.1796875\n",
      "epsilon_upper=0.1796875\n",
      "epsilon_upper=0.1796875\n",
      "epsilon_upper=0.1796875\n",
      "epsilon_upper=0.1796875\n",
      "epsilon_upper=0.171875\n",
      "epsilon_upper=0.171875\n",
      "epsilon_upper=0.171875\n",
      "epsilon_upper=0.171875\n",
      "epsilon_upper=0.171875\n",
      "epsilon_upper=0.1640625\n",
      "epsilon_upper=0.1640625\n",
      "epsilon_upper=0.1640625\n",
      "epsilon_upper=0.1640625\n",
      "epsilon_upper=0.171875\n",
      "epsilon_upper=0.171875\n",
      "epsilon_upper=0.171875\n",
      "epsilon_upper=0.171875\n",
      "epsilon_upper=0.171875\n",
      "epsilon_upper=0.171875\n",
      "epsilon_upper=0.171875\n",
      "epsilon_upper=0.171875\n",
      "epsilon_upper=0.1796875\n",
      "epsilon_upper=0.1796875\n",
      "epsilon_upper=0.1796875\n",
      "epsilon_upper=0.1875\n",
      "epsilon_upper=0.1796875\n",
      "epsilon_upper=0.1875\n",
      "epsilon_upper=0.1875\n",
      "epsilon_upper=0.1875\n",
      "epsilon_upper=0.1875\n",
      "epsilon_upper=0.1875\n",
      "epsilon_upper=0.1796875\n",
      "epsilon_upper=0.1875\n",
      "epsilon_upper=0.1875\n",
      "epsilon_upper=0.1796875\n",
      "epsilon_upper=0.1796875\n",
      "epsilon_upper=0.1796875\n",
      "epsilon_upper=0.1796875\n",
      "epsilon_upper=0.1875\n",
      "epsilon_upper=0.1796875\n",
      "epsilon_upper=0.1796875\n",
      "epsilon_upper=0.1796875\n",
      "epsilon_upper=0.1875\n",
      "epsilon_upper=0.1875\n",
      "epsilon_upper=0.1875\n",
      "epsilon_upper=0.1875\n",
      "epsilon_upper=0.1875\n",
      "epsilon_upper=0.1796875\n",
      "epsilon_upper=0.1796875\n",
      "epsilon_upper=0.1796875\n",
      "epsilon_upper=0.1875\n",
      "epsilon_upper=0.1875\n"
     ]
    }
   ],
   "source": [
    "final = boundary_attack(model, eval_model, target, target_class, 100)"
   ]
  },
  {
   "cell_type": "code",
   "execution_count": 592,
   "metadata": {},
   "outputs": [],
   "source": [
    "z = [upper, epsilon, lower]"
   ]
  },
  {
   "cell_type": "code",
   "execution_count": 596,
   "metadata": {},
   "outputs": [
    {
     "data": {
      "text/plain": [
       "0.9453125"
      ]
     },
     "execution_count": 596,
     "metadata": {},
     "output_type": "execute_result"
    }
   ],
   "source": [
    "epsilon"
   ]
  },
  {
   "cell_type": "code",
   "execution_count": 595,
   "metadata": {},
   "outputs": [
    {
     "data": {
      "text/plain": [
       "0.9375"
      ]
     },
     "execution_count": 595,
     "metadata": {},
     "output_type": "execute_result"
    }
   ],
   "source": [
    "upper"
   ]
  },
  {
   "cell_type": "code",
   "execution_count": 594,
   "metadata": {},
   "outputs": [
    {
     "name": "stdout",
     "output_type": "stream",
     "text": [
      "Adversarial class: 3 \n",
      "\n"
     ]
    },
    {
     "data": {
      "image/png": "[encoded data removed]",
      "text/plain": [
       "<Figure size 432x288 with 1 Axes>"
      ]
     },
     "metadata": {
      "needs_background": "light"
     },
     "output_type": "display_data"
    },
    {
     "name": "stdout",
     "output_type": "stream",
     "text": [
      "Adversarial class: 8 \n",
      "\n"
     ]
    },
    {
     "data": {
      "image/png": "[encoded data removed]",
      "text/plain": [
       "<Figure size 432x288 with 1 Axes>"
      ]
     },
     "metadata": {
      "needs_background": "light"
     },
     "output_type": "display_data"
    },
    {
     "name": "stdout",
     "output_type": "stream",
     "text": [
      "Adversarial class: 8 \n",
      "\n"
     ]
    },
    {
     "data": {
      "image/png": "[encoded data removed]",
      "text/plain": [
       "<Figure size 432x288 with 1 Axes>"
      ]
     },
     "metadata": {
      "needs_background": "light"
     },
     "output_type": "display_data"
    }
   ],
   "source": [
    "%matplotlib inline \n",
    "\n",
    "for i in z:\n",
    "    temp = pertubation - ((pertubation - target) * i)\n",
    "    plt.imshow(temp, cmap=\"gray\")\n",
    "    print(f'Adversarial class: {eval_model(model, temp)} \\n')\n",
    "    plt.show()"
   ]
  },
  {
   "cell_type": "code",
   "execution_count": 589,
   "metadata": {},
   "outputs": [
    {
     "data": {
      "text/plain": [
       "array([[0.39776128, 0.64351605, 0.02453448, 0.75148447, 0.37463182,\n",
       "        0.07410858, 0.91795041, 0.65896977, 0.24407044, 0.6759501 ,\n",
       "        0.23609024, 0.93155485, 0.60168548, 0.04330926, 0.99494171,\n",
       "        0.00894663, 0.4030875 , 0.93304005, 0.55587869, 0.5438313 ,\n",
       "        0.85830223, 0.95506991, 0.04994439, 0.42286547, 0.34208658,\n",
       "        0.31152608, 0.31231422, 0.70110621],\n",
       "       [0.91047864, 0.88719944, 0.14148567, 0.19167308, 0.46067654,\n",
       "        0.56943196, 0.8503325 , 0.27310329, 0.71426041, 0.7472008 ,\n",
       "        0.95134614, 0.57818292, 0.91420882, 0.49611242, 0.74261028,\n",
       "        0.28366794, 0.24490171, 0.7711299 , 0.99781276, 0.96715981,\n",
       "        0.47384344, 0.51848051, 0.55701546, 0.69104207, 0.19008036,\n",
       "        0.92870547, 0.27978442, 0.45408902],\n",
       "       [0.08489475, 0.42647696, 0.79501794, 0.23992324, 0.21369027,\n",
       "        0.3482753 , 0.0551828 , 0.4591849 , 0.16196242, 0.30811855,\n",
       "        0.29837888, 0.46255656, 0.45930055, 0.01036968, 0.73833205,\n",
       "        0.81021752, 0.46320183, 0.03416159, 0.96264528, 0.04884262,\n",
       "        0.9881326 , 0.59421747, 0.47379069, 0.68417252, 0.98343931,\n",
       "        0.25586537, 0.18441327, 0.98496569],\n",
       "       [0.46110375, 0.65898943, 0.33430046, 0.93686157, 0.83901917,\n",
       "        0.48985123, 0.50549064, 0.56239531, 0.32738724, 0.85573035,\n",
       "        0.02073134, 0.13928603, 0.05112955, 0.31585296, 0.05863561,\n",
       "        0.39609586, 0.40641748, 0.65265024, 0.59357327, 0.66176268,\n",
       "        0.68352886, 0.62280053, 0.32396779, 0.37108514, 0.67186176,\n",
       "        0.68373656, 0.2258315 , 0.6125176 ],\n",
       "       [0.50532275, 0.13553701, 0.75798619, 0.27189291, 0.04242434,\n",
       "        0.37156753, 0.20010362, 0.12370356, 0.34649091, 0.64616206,\n",
       "        0.39496075, 0.16623479, 0.41849653, 0.95474251, 0.63572551,\n",
       "        0.05975078, 0.43258437, 0.69258755, 0.05703807, 0.53262492,\n",
       "        0.71063312, 0.53181713, 0.49200719, 0.90463586, 0.22172444,\n",
       "        0.34052261, 0.31171403, 0.76612855],\n",
       "       [0.09122895, 0.62226162, 0.62211124, 0.97689092, 0.06246667,\n",
       "        0.26248787, 0.18786612, 0.4133209 , 0.41856269, 0.35916109,\n",
       "        0.34428552, 0.75156236, 0.31948645, 0.6318509 , 0.16496052,\n",
       "        0.84093102, 0.48086887, 0.50923726, 0.08982313, 0.57537156,\n",
       "        0.98735687, 0.86279062, 0.34318076, 0.30540258, 0.82122508,\n",
       "        0.93780327, 0.36518647, 0.42777276],\n",
       "       [0.60804666, 0.64910549, 0.06068482, 0.03621209, 0.14792129,\n",
       "        0.38174546, 0.07254608, 0.26574342, 0.24372638, 0.30917621,\n",
       "        0.74593736, 0.61265907, 0.28369415, 0.0202228 , 0.1266979 ,\n",
       "        0.77482271, 0.08274761, 0.70712396, 0.53605085, 0.38532983,\n",
       "        0.61512061, 0.86382344, 0.38349756, 0.29844592, 0.9008661 ,\n",
       "        0.39867315, 0.1689635 , 0.39131134],\n",
       "       [0.85762338, 0.05819356, 0.35408562, 0.16894751, 0.58601753,\n",
       "        0.72235231, 0.61453723, 0.47032594, 0.2378645 , 0.34891421,\n",
       "        0.09052646, 0.92855605, 0.85436965, 0.49458925, 0.52079186,\n",
       "        0.20916844, 0.93445698, 0.27436115, 0.48156287, 0.09124129,\n",
       "        0.38587314, 0.6464689 , 0.0510184 , 0.12538952, 0.1293501 ,\n",
       "        0.60310907, 0.4011649 , 0.55037669],\n",
       "       [0.00118441, 0.19508228, 0.66460442, 0.37313739, 0.03708974,\n",
       "        0.93581099, 0.62513721, 0.97580126, 0.17749728, 0.34572071,\n",
       "        0.63064629, 0.53278862, 0.03412721, 0.14067751, 0.71332649,\n",
       "        0.41865922, 0.57480278, 0.19340135, 0.44461222, 0.81771361,\n",
       "        0.70584257, 0.38248464, 0.23646635, 0.04610356, 0.80159942,\n",
       "        0.50182522, 0.29106404, 0.25880686],\n",
       "       [0.49448603, 0.04877973, 0.36912656, 0.84849079, 0.68081434,\n",
       "        0.43284831, 0.50505853, 0.24828104, 0.13766698, 0.92266725,\n",
       "        0.16539138, 0.36759522, 0.13386221, 0.83772308, 0.47056579,\n",
       "        0.17461565, 0.05317178, 0.78746035, 0.17807158, 0.72266239,\n",
       "        0.8904804 , 0.93514026, 0.84618095, 0.95429444, 0.40015805,\n",
       "        0.06537901, 0.56528565, 0.93368866],\n",
       "       [0.54833581, 0.23371842, 0.81493673, 0.01360181, 0.21001463,\n",
       "        0.43173426, 0.47830313, 0.83275353, 0.49685335, 0.7787919 ,\n",
       "        0.57425523, 0.41977887, 0.5163707 , 0.10530569, 0.88277325,\n",
       "        0.26160133, 0.77726783, 0.54983125, 0.86955645, 0.60979893,\n",
       "        0.90076019, 0.12145221, 0.34423474, 0.16998385, 0.23401231,\n",
       "        0.21650078, 0.52793805, 0.01984132],\n",
       "       [0.45964537, 0.17046683, 0.76039489, 0.74943443, 0.14227376,\n",
       "        0.545974  , 0.39930964, 0.61184488, 0.07425507, 0.34656398,\n",
       "        0.63264517, 0.48711399, 0.97950902, 0.66544584, 0.68839543,\n",
       "        0.71798018, 0.97099156, 0.76676516, 0.07920507, 0.48070967,\n",
       "        0.49669148, 0.05440769, 0.79177104, 0.83657073, 0.93754708,\n",
       "        0.53174292, 0.64402809, 0.12787937],\n",
       "       [0.9064886 , 0.70871722, 0.15710445, 0.79913235, 0.60138062,\n",
       "        0.89347542, 0.40244464, 0.64803872, 0.1503984 , 0.4798867 ,\n",
       "        0.64521397, 0.43841995, 0.88428534, 0.03501657, 0.1864079 ,\n",
       "        0.87042722, 0.51162316, 0.71736419, 0.69103601, 0.93158113,\n",
       "        0.46267606, 0.30056094, 0.90918177, 0.27607628, 0.2452007 ,\n",
       "        0.64884948, 0.02788056, 0.24928134],\n",
       "       [0.08970762, 0.51534024, 0.35792571, 0.23030046, 0.71228034,\n",
       "        0.42450591, 0.73917315, 0.97760136, 0.50107077, 0.84448104,\n",
       "        0.08141879, 0.47607232, 0.67439832, 0.7253659 , 0.47696648,\n",
       "        0.83411986, 0.88192113, 0.30934971, 0.9202586 , 0.71448476,\n",
       "        0.24057347, 0.43676831, 0.2828296 , 0.81224375, 0.00605351,\n",
       "        0.28601723, 0.84889892, 0.82096747],\n",
       "       [0.24851666, 0.44978138, 0.57587826, 0.33177315, 0.64914038,\n",
       "        0.31098314, 0.14827135, 0.66568119, 0.98631263, 0.26912905,\n",
       "        0.9248758 , 0.38359682, 0.70052254, 0.84346333, 0.41096212,\n",
       "        0.79539882, 0.65556789, 0.59107956, 0.3028735 , 0.2398558 ,\n",
       "        0.40971611, 0.35511196, 0.76219542, 0.20463003, 0.89852362,\n",
       "        0.42934212, 0.58647413, 0.29724725],\n",
       "       [0.97667403, 0.2150742 , 0.30054259, 0.21429085, 0.34405665,\n",
       "        0.37649799, 0.68399745, 0.33803907, 0.72387081, 0.45531223,\n",
       "        0.92117847, 0.28726695, 0.48478242, 0.19746189, 0.45264575,\n",
       "        0.18974589, 0.9721434 , 0.77156757, 0.99902014, 0.97958882,\n",
       "        0.18640234, 0.95319685, 0.39697412, 0.81103392, 0.70426751,\n",
       "        0.82868234, 0.55090633, 0.42465563],\n",
       "       [0.1527051 , 0.50197645, 0.95971898, 0.53371094, 0.62821624,\n",
       "        0.40304727, 0.84229369, 0.15363353, 0.91999684, 0.36061692,\n",
       "        0.94583645, 0.92910867, 0.9167332 , 0.32745069, 0.30652102,\n",
       "        0.38150684, 0.10744773, 0.96765537, 0.33942661, 0.21322427,\n",
       "        0.0108701 , 0.03858097, 0.95023126, 0.1401923 , 0.46690762,\n",
       "        0.35287765, 0.48583302, 0.38796943],\n",
       "       [0.45999037, 0.92519323, 0.49144316, 0.91561783, 0.94957047,\n",
       "        0.27567435, 0.88590727, 0.14301151, 0.71463354, 0.34104977,\n",
       "        0.74316528, 0.83504603, 0.79584042, 0.63759365, 0.78253547,\n",
       "        0.26633274, 0.47532937, 0.28867993, 0.66020942, 0.51617535,\n",
       "        0.46712386, 0.55812143, 0.23930606, 0.39034313, 0.87165199,\n",
       "        0.80558217, 0.16773385, 0.42320579],\n",
       "       [0.88746897, 0.84469304, 0.90275767, 0.38796785, 0.91523997,\n",
       "        0.30394331, 0.86711101, 0.54773598, 0.70048877, 0.33074437,\n",
       "        0.15151947, 0.41794854, 0.92271049, 0.2820022 , 0.68342106,\n",
       "        0.17199201, 0.21772744, 0.83339025, 0.09981833, 0.12666125,\n",
       "        0.06390766, 0.28055704, 0.33786098, 0.77177794, 0.96301259,\n",
       "        0.13879249, 0.81357715, 0.07737713],\n",
       "       [0.06012031, 0.95046414, 0.79228354, 0.74289492, 0.09764785,\n",
       "        0.9581824 , 0.85160447, 0.02853618, 0.13260482, 0.22707501,\n",
       "        0.57292808, 0.79120529, 0.03519237, 0.71450207, 0.51185399,\n",
       "        0.87762342, 0.54346995, 0.16999733, 0.65421108, 0.52824179,\n",
       "        0.74846011, 0.44246177, 0.07677526, 0.74152163, 0.80396004,\n",
       "        0.07402924, 0.37464808, 0.62596593],\n",
       "       [0.30926034, 0.07415008, 0.43829601, 0.42196237, 0.03645728,\n",
       "        0.47020715, 0.10030248, 0.47164407, 0.51812678, 0.4803586 ,\n",
       "        0.71179719, 0.14024577, 0.02196708, 0.2461781 , 0.4809242 ,\n",
       "        0.29507868, 0.14061692, 0.21213114, 0.65120429, 0.80518377,\n",
       "        0.39175327, 0.0966329 , 0.80305679, 0.07532488, 0.1265543 ,\n",
       "        0.5022186 , 0.99018432, 0.7423634 ],\n",
       "       [0.8327128 , 0.49908363, 0.34746706, 0.35078998, 0.83163181,\n",
       "        0.41132497, 0.56249274, 0.90219177, 0.53980733, 0.53126261,\n",
       "        0.00743377, 0.28660856, 0.55183999, 0.28562899, 0.30643454,\n",
       "        0.41104962, 0.06345211, 0.18548182, 0.73101913, 0.94997315,\n",
       "        0.93610048, 0.35126801, 0.80219969, 0.52428479, 0.65892689,\n",
       "        0.81592628, 0.63935135, 0.98992454],\n",
       "       [0.1383555 , 0.73065933, 0.51891273, 0.46676478, 0.12784165,\n",
       "        0.26417077, 0.60260957, 0.4068731 , 0.53117355, 0.89587873,\n",
       "        0.48842151, 0.67853262, 0.62902272, 0.67072405, 0.24887743,\n",
       "        0.65430716, 0.22952356, 0.83528745, 0.91455647, 0.02927744,\n",
       "        0.32517247, 0.12134678, 0.89530246, 0.14413571, 0.85296054,\n",
       "        0.85108884, 0.02465169, 0.84896876],\n",
       "       [0.95564636, 0.63095422, 0.814818  , 0.43610177, 0.37255244,\n",
       "        0.4872343 , 0.70134042, 0.33618643, 0.4559714 , 0.21666377,\n",
       "        0.06963614, 0.12902231, 0.27112218, 0.1829711 , 0.10015286,\n",
       "        0.9113613 , 0.67245531, 0.93563678, 0.53135875, 0.57742744,\n",
       "        0.17450459, 0.68369628, 0.61971792, 0.783215  , 0.98175086,\n",
       "        0.59394086, 0.63858429, 0.55967856],\n",
       "       [0.89912085, 0.47624161, 0.38309755, 0.95326334, 0.9287969 ,\n",
       "        0.65613244, 0.13142278, 0.93418357, 0.01158094, 0.50048868,\n",
       "        0.15397201, 0.06369139, 0.52933396, 0.03945514, 0.4341379 ,\n",
       "        0.5966546 , 0.76977936, 0.97310853, 0.99083394, 0.15245823,\n",
       "        0.49223895, 0.58787251, 0.57957414, 0.26881739, 0.90687415,\n",
       "        0.66375627, 0.61856667, 0.614844  ],\n",
       "       [0.27885515, 0.21975097, 0.87049464, 0.34366378, 0.22787587,\n",
       "        0.17671213, 0.56353098, 0.41103905, 0.29394014, 0.33165494,\n",
       "        0.07933689, 0.79110413, 0.34496626, 0.89741048, 0.32153166,\n",
       "        0.52262504, 0.30088019, 0.6081671 , 0.92451132, 0.32349949,\n",
       "        0.09782068, 0.48645661, 0.21221676, 0.10542823, 0.76477446,\n",
       "        0.32753963, 0.91561755, 0.92407524],\n",
       "       [0.0995474 , 0.22555489, 0.25052981, 0.65532645, 0.17579231,\n",
       "        0.31984753, 0.40036378, 0.13909833, 0.58796204, 0.6218408 ,\n",
       "        0.55603041, 0.09493321, 0.66629972, 0.04942065, 0.94500784,\n",
       "        0.44290602, 0.2558347 , 0.25924423, 0.96777461, 0.86548216,\n",
       "        0.64260115, 0.87816915, 0.24930077, 0.5221527 , 0.29380069,\n",
       "        0.38943244, 0.88572198, 0.01299404],\n",
       "       [0.44633481, 0.96233393, 0.18522489, 0.10381135, 0.66568056,\n",
       "        0.63153602, 0.24535621, 0.88283007, 0.30514844, 0.43134071,\n",
       "        0.4780473 , 0.86333337, 0.72323902, 0.35264885, 0.78404094,\n",
       "        0.23618891, 0.90895818, 0.38476811, 0.98970253, 0.72123581,\n",
       "        0.27504904, 0.66051266, 0.15844679, 0.77825323, 0.81895964,\n",
       "        0.14163541, 0.0176698 , 0.79590259]])"
      ]
     },
     "execution_count": 589,
     "metadata": {},
     "output_type": "execute_result"
    }
   ],
   "source": [
    "pertubation"
   ]
  },
  {
   "cell_type": "code",
   "execution_count": 606,
   "metadata": {
    "scrolled": false
   },
   "outputs": [
    {
     "data": {
      "image/png": "[encoded data removed]",
      "text/plain": [
       "<Figure size 432x288 with 1 Axes>"
      ]
     },
     "metadata": {
      "needs_background": "light"
     },
     "output_type": "display_data"
    },
    {
     "name": "stdout",
     "output_type": "stream",
     "text": [
      "Image class: 8\n"
     ]
    },
    {
     "data": {
      "image/png": "[encoded data removed]",
      "text/plain": [
       "<Figure size 432x288 with 1 Axes>"
      ]
     },
     "metadata": {
      "needs_background": "light"
     },
     "output_type": "display_data"
    },
    {
     "name": "stdout",
     "output_type": "stream",
     "text": [
      "Adversarial class: 3 \n",
      "\n",
      "L2 norm between images: 0.7406255443599422\n"
     ]
    }
   ],
   "source": [
    "%matplotlib inline \n",
    "\n",
    "plt.imshow(target, cmap=\"gray\")\n",
    "plt.show()\n",
    "print(f'Image class: {eval_model(model, target)}')\n",
    "\n",
    " \n",
    "plt.imshow(final, cmap=\"gray\")\n",
    "plt.show()\n",
    "print(f'Adversarial class: {eval_model(model, final)} \\n')\n",
    "\n",
    "\n",
    "print(f'L2 norm between images: {np.linalg.norm(final -  target) }')"
   ]
  },
  {
   "cell_type": "code",
   "execution_count": 485,
   "metadata": {},
   "outputs": [
    {
     "name": "stdout",
     "output_type": "stream",
     "text": [
      "10\n",
      "9\n",
      "8\n",
      "7\n",
      "6\n",
      "5\n",
      "4\n",
      "3\n",
      "2\n",
      "1\n"
     ]
    }
   ],
   "source": [
    "for i in range(10,0, -1):\n",
    "    print(i)"
   ]
  },
  {
   "cell_type": "code",
   "execution_count": 518,
   "metadata": {},
   "outputs": [
    {
     "name": "stdout",
     "output_type": "stream",
     "text": [
      "2**i=1\n"
     ]
    },
    {
     "data": {
      "image/png": "[encoded data removed]",
      "text/plain": [
       "<Figure size 432x288 with 1 Axes>"
      ]
     },
     "metadata": {
      "needs_background": "light"
     },
     "output_type": "display_data"
    }
   ],
   "source": [
    "temp = final - (final - target)\n",
    "plt.imshow(temp, cmap=\"gray\")\n",
    "print(f'{2**i=}')\n",
    "plt.show()"
   ]
  },
  {
   "cell_type": "code",
   "execution_count": 508,
   "metadata": {},
   "outputs": [
    {
     "name": "stdout",
     "output_type": "stream",
     "text": [
      "2**i=1024\n"
     ]
    },
    {
     "data": {
      "image/png": "[encoded data removed]",
      "text/plain": [
       "<Figure size 432x288 with 1 Axes>"
      ]
     },
     "metadata": {
      "needs_background": "light"
     },
     "output_type": "display_data"
    },
    {
     "name": "stdout",
     "output_type": "stream",
     "text": [
      "2**i=512\n"
     ]
    },
    {
     "data": {
      "image/png": "[encoded data removed]",
      "text/plain": [
       "<Figure size 432x288 with 1 Axes>"
      ]
     },
     "metadata": {
      "needs_background": "light"
     },
     "output_type": "display_data"
    },
    {
     "name": "stdout",
     "output_type": "stream",
     "text": [
      "2**i=256\n"
     ]
    },
    {
     "data": {
      "image/png": "[encoded data removed]",
      "text/plain": [
       "<Figure size 432x288 with 1 Axes>"
      ]
     },
     "metadata": {
      "needs_background": "light"
     },
     "output_type": "display_data"
    },
    {
     "name": "stdout",
     "output_type": "stream",
     "text": [
      "2**i=128\n"
     ]
    },
    {
     "data": {
      "image/png": "[encoded data removed]",
      "text/plain": [
       "<Figure size 432x288 with 1 Axes>"
      ]
     },
     "metadata": {
      "needs_background": "light"
     },
     "output_type": "display_data"
    },
    {
     "name": "stdout",
     "output_type": "stream",
     "text": [
      "2**i=64\n"
     ]
    },
    {
     "data": {
      "image/png": "[encoded data removed]",
      "text/plain": [
       "<Figure size 432x288 with 1 Axes>"
      ]
     },
     "metadata": {
      "needs_background": "light"
     },
     "output_type": "display_data"
    },
    {
     "name": "stdout",
     "output_type": "stream",
     "text": [
      "2**i=32\n"
     ]
    },
    {
     "data": {
      "image/png": "[encoded data removed]",
      "text/plain": [
       "<Figure size 432x288 with 1 Axes>"
      ]
     },
     "metadata": {
      "needs_background": "light"
     },
     "output_type": "display_data"
    },
    {
     "name": "stdout",
     "output_type": "stream",
     "text": [
      "2**i=16\n"
     ]
    },
    {
     "data": {
      "image/png": "[encoded data removed]",
      "text/plain": [
       "<Figure size 432x288 with 1 Axes>"
      ]
     },
     "metadata": {
      "needs_background": "light"
     },
     "output_type": "display_data"
    },
    {
     "name": "stdout",
     "output_type": "stream",
     "text": [
      "2**i=8\n"
     ]
    },
    {
     "data": {
      "image/png": "[encoded data removed]",
      "text/plain": [
       "<Figure size 432x288 with 1 Axes>"
      ]
     },
     "metadata": {
      "needs_background": "light"
     },
     "output_type": "display_data"
    },
    {
     "name": "stdout",
     "output_type": "stream",
     "text": [
      "2**i=4\n"
     ]
    },
    {
     "data": {
      "image/png": "[encoded data removed]",
      "text/plain": [
       "<Figure size 432x288 with 1 Axes>"
      ]
     },
     "metadata": {
      "needs_background": "light"
     },
     "output_type": "display_data"
    },
    {
     "name": "stdout",
     "output_type": "stream",
     "text": [
      "2**i=2\n"
     ]
    },
    {
     "data": {
      "image/png": "[encoded data removed]",
      "text/plain": [
       "<Figure size 432x288 with 1 Axes>"
      ]
     },
     "metadata": {
      "needs_background": "light"
     },
     "output_type": "display_data"
    },
    {
     "name": "stdout",
     "output_type": "stream",
     "text": [
      "2**i=1\n"
     ]
    },
    {
     "data": {
      "image/png": "[encoded data removed]",
      "text/plain": [
       "<Figure size 432x288 with 1 Axes>"
      ]
     },
     "metadata": {
      "needs_background": "light"
     },
     "output_type": "display_data"
    }
   ],
   "source": [
    "%matplotlib inline \n",
    "\n",
    "for i in range(10,-1, -1):\n",
    "    \n",
    "    temp = (final + target) - (final * 1/(2**i))\n",
    "    plt.imshow(temp, cmap=\"gray\")\n",
    "    print(f'{2**i=}')\n",
    "    plt.show()"
   ]
  },
  {
   "cell_type": "code",
   "execution_count": 521,
   "metadata": {},
   "outputs": [
    {
     "name": "stdout",
     "output_type": "stream",
     "text": [
      "2**i=1024\n"
     ]
    },
    {
     "data": {
      "image/png": "[encoded data removed]",
      "text/plain": [
       "<Figure size 432x288 with 1 Axes>"
      ]
     },
     "metadata": {
      "needs_background": "light"
     },
     "output_type": "display_data"
    },
    {
     "name": "stdout",
     "output_type": "stream",
     "text": [
      "2**i=512\n"
     ]
    },
    {
     "data": {
      "image/png": "[encoded data removed]",
      "text/plain": [
       "<Figure size 432x288 with 1 Axes>"
      ]
     },
     "metadata": {
      "needs_background": "light"
     },
     "output_type": "display_data"
    },
    {
     "name": "stdout",
     "output_type": "stream",
     "text": [
      "2**i=256\n"
     ]
    },
    {
     "data": {
      "image/png": "[encoded data removed]",
      "text/plain": [
       "<Figure size 432x288 with 1 Axes>"
      ]
     },
     "metadata": {
      "needs_background": "light"
     },
     "output_type": "display_data"
    },
    {
     "name": "stdout",
     "output_type": "stream",
     "text": [
      "2**i=128\n"
     ]
    },
    {
     "data": {
      "image/png": "[encoded data removed]",
      "text/plain": [
       "<Figure size 432x288 with 1 Axes>"
      ]
     },
     "metadata": {
      "needs_background": "light"
     },
     "output_type": "display_data"
    },
    {
     "name": "stdout",
     "output_type": "stream",
     "text": [
      "2**i=64\n"
     ]
    },
    {
     "data": {
      "image/png": "[encoded data removed]",
      "text/plain": [
       "<Figure size 432x288 with 1 Axes>"
      ]
     },
     "metadata": {
      "needs_background": "light"
     },
     "output_type": "display_data"
    },
    {
     "name": "stdout",
     "output_type": "stream",
     "text": [
      "2**i=32\n"
     ]
    },
    {
     "data": {
      "image/png": "[encoded data removed]",
      "text/plain": [
       "<Figure size 432x288 with 1 Axes>"
      ]
     },
     "metadata": {
      "needs_background": "light"
     },
     "output_type": "display_data"
    },
    {
     "name": "stdout",
     "output_type": "stream",
     "text": [
      "2**i=16\n"
     ]
    },
    {
     "data": {
      "image/png": "[encoded data removed]",
      "text/plain": [
       "<Figure size 432x288 with 1 Axes>"
      ]
     },
     "metadata": {
      "needs_background": "light"
     },
     "output_type": "display_data"
    },
    {
     "name": "stdout",
     "output_type": "stream",
     "text": [
      "2**i=8\n"
     ]
    },
    {
     "data": {
      "image/png": "[encoded data removed]",
      "text/plain": [
       "<Figure size 432x288 with 1 Axes>"
      ]
     },
     "metadata": {
      "needs_background": "light"
     },
     "output_type": "display_data"
    },
    {
     "name": "stdout",
     "output_type": "stream",
     "text": [
      "2**i=4\n"
     ]
    },
    {
     "data": {
      "image/png": "[encoded data removed]",
      "text/plain": [
       "<Figure size 432x288 with 1 Axes>"
      ]
     },
     "metadata": {
      "needs_background": "light"
     },
     "output_type": "display_data"
    },
    {
     "name": "stdout",
     "output_type": "stream",
     "text": [
      "2**i=2\n"
     ]
    },
    {
     "data": {
      "image/png": "[encoded data removed]",
      "text/plain": [
       "<Figure size 432x288 with 1 Axes>"
      ]
     },
     "metadata": {
      "needs_background": "light"
     },
     "output_type": "display_data"
    },
    {
     "name": "stdout",
     "output_type": "stream",
     "text": [
      "2**i=1\n"
     ]
    },
    {
     "data": {
      "image/png": "[encoded data removed]",
      "text/plain": [
       "<Figure size 432x288 with 1 Axes>"
      ]
     },
     "metadata": {
      "needs_background": "light"
     },
     "output_type": "display_data"
    }
   ],
   "source": [
    "%matplotlib inline \n",
    "\n",
    "for i in range(10,-1, -1):\n",
    "    \n",
    "    temp = final - (final - target) * 1/(2**i)\n",
    "    plt.imshow(temp, cmap=\"gray\")\n",
    "    print(f'{2**i=}')\n",
    "    plt.show()\n",
    "    "
   ]
  },
  {
   "cell_type": "code",
   "execution_count": 533,
   "metadata": {},
   "outputs": [],
   "source": [
    "def is_adversarial_test(x):\n",
    "    return x <= .3"
   ]
  },
  {
   "cell_type": "code",
   "execution_count": 550,
   "metadata": {},
   "outputs": [],
   "source": [
    "epsilon_lower = 0\n",
    "epsilon_upper = 1\n",
    "epsilon = (epsilon_lower + epsilon_upper)/2"
   ]
  },
  {
   "cell_type": "code",
   "execution_count": 551,
   "metadata": {},
   "outputs": [
    {
     "data": {
      "text/plain": [
       "0.5"
      ]
     },
     "execution_count": 551,
     "metadata": {},
     "output_type": "execute_result"
    }
   ],
   "source": [
    "epsilon"
   ]
  },
  {
   "cell_type": "code",
   "execution_count": null,
   "metadata": {},
   "outputs": [],
   "source": []
  },
  {
   "cell_type": "code",
   "execution_count": 554,
   "metadata": {},
   "outputs": [
    {
     "data": {
      "text/plain": [
       "-0.9154375190988389"
      ]
     },
     "execution_count": 554,
     "metadata": {},
     "output_type": "execute_result"
    }
   ],
   "source": [
    "1.4901161193847656e-08 - .915437534"
   ]
  },
  {
   "cell_type": "code",
   "execution_count": 573,
   "metadata": {},
   "outputs": [
    {
     "name": "stdout",
     "output_type": "stream",
     "text": [
      "epsilon=0.5\n",
      "epsilon_upper=0.5\n",
      "epsilon_lower=1\n",
      "epsilon=0.75\n",
      "epsilon_upper=0.75\n",
      "epsilon_lower=1\n",
      "epsilon=0.875\n",
      "epsilon_upper=0.875\n",
      "epsilon_lower=1\n",
      "epsilon=0.9375\n",
      "epsilon_upper=0.875\n",
      "epsilon_lower=0.9375\n",
      "epsilon=0.90625\n",
      "epsilon_upper=0.90625\n",
      "epsilon_lower=0.9375\n",
      "epsilon=0.921875\n",
      "epsilon_upper=0.90625\n",
      "epsilon_lower=0.921875\n",
      "epsilon=0.9140625\n",
      "epsilon_upper=0.9140625\n",
      "epsilon_lower=0.921875\n",
      "epsilon=0.91796875\n",
      "epsilon_upper=0.9140625\n",
      "epsilon_lower=0.91796875\n",
      "epsilon=0.916015625\n",
      "epsilon_upper=0.9140625\n",
      "epsilon_lower=0.916015625\n",
      "epsilon=0.9150390625\n",
      "epsilon_upper=0.9150390625\n",
      "epsilon_lower=0.916015625\n",
      "epsilon=0.91552734375\n",
      "epsilon_upper=0.9150390625\n",
      "epsilon_lower=0.91552734375\n",
      "epsilon=0.915283203125\n",
      "epsilon_upper=0.915283203125\n",
      "epsilon_lower=0.91552734375\n",
      "epsilon=0.9154052734375\n",
      "epsilon_upper=0.9154052734375\n",
      "epsilon_lower=0.91552734375\n",
      "epsilon=0.91546630859375\n",
      "epsilon_upper=0.9154052734375\n",
      "epsilon_lower=0.91546630859375\n"
     ]
    }
   ],
   "source": [
    "boundary = .915437534\n",
    "\n",
    "epsilon_lower = 1\n",
    "epsilon_upper = 0\n",
    "epsilon = (epsilon_lower + epsilon_upper)/2\n",
    "while abs(epsilon - epsilon_lower) > .0001 or abs(epsilon - epsilon_upper) > .0001: \n",
    "    epsilon = (epsilon_lower + epsilon_upper)/2\n",
    "    if epsilon <= boundary: \n",
    "        epsilon_upper = epsilon\n",
    "    else: \n",
    "        epsilon_lower = epsilon\n",
    "    print(f'{epsilon=}')\n",
    "    print(f'{epsilon_upper=}')\n",
    "    print(f'{epsilon_lower=}')\n",
    "\n",
    "    "
   ]
  },
  {
   "cell_type": "code",
   "execution_count": 572,
   "metadata": {},
   "outputs": [
    {
     "name": "stdout",
     "output_type": "stream",
     "text": [
      "epsilon=0.5\n",
      "epsilon_upper=0\n",
      "epsilon_lower=0.5\n",
      "\n",
      "epsilon=0.25\n",
      "epsilon_upper=0\n",
      "epsilon_lower=0.25\n",
      "\n",
      "epsilon=0.125\n",
      "epsilon_upper=0\n",
      "epsilon_lower=0.125\n",
      "\n",
      "epsilon=0.0625\n",
      "epsilon_upper=0\n",
      "epsilon_lower=0.0625\n",
      "\n",
      "epsilon=0.03125\n",
      "epsilon_upper=0\n",
      "epsilon_lower=0.03125\n",
      "\n",
      "epsilon=0.015625\n",
      "epsilon_upper=0\n",
      "epsilon_lower=0.015625\n",
      "\n",
      "epsilon=0.0078125\n",
      "epsilon_upper=0.0078125\n",
      "epsilon_lower=0.015625\n",
      "\n",
      "epsilon=0.01171875\n",
      "epsilon_upper=0.01171875\n",
      "epsilon_lower=0.015625\n",
      "\n",
      "epsilon=0.013671875\n",
      "epsilon_upper=0.013671875\n",
      "epsilon_lower=0.015625\n",
      "\n",
      "epsilon=0.0146484375\n",
      "epsilon_upper=0.0146484375\n",
      "epsilon_lower=0.015625\n",
      "\n",
      "epsilon=0.01513671875\n",
      "epsilon_upper=0.01513671875\n",
      "epsilon_lower=0.015625\n",
      "\n",
      "epsilon=0.015380859375\n",
      "epsilon_upper=0.015380859375\n",
      "epsilon_lower=0.015625\n",
      "\n",
      "epsilon=0.0155029296875\n",
      "epsilon_upper=0.015380859375\n",
      "epsilon_lower=0.0155029296875\n",
      "\n",
      "epsilon=0.01544189453125\n",
      "epsilon_upper=0.015380859375\n",
      "epsilon_lower=0.01544189453125\n",
      "\n"
     ]
    }
   ],
   "source": [
    "boundary = .015437534\n",
    "\n",
    "epsilon_lower = 1\n",
    "epsilon_upper = 0\n",
    "epsilon = (epsilon_lower + epsilon_upper)/2\n",
    "while abs(epsilon - epsilon_lower) > .0001 or abs(epsilon - epsilon_upper) > .0001: \n",
    "    epsilon = (epsilon_lower + epsilon_upper)/2\n",
    "    if epsilon <= boundary: \n",
    "        epsilon_upper = epsilon\n",
    "    else: \n",
    "        epsilon_lower = epsilon\n",
    "    print(f'{epsilon=}')\n",
    "    print(f'{epsilon_upper=}')\n",
    "    print(f'{epsilon_lower=}\\n')\n",
    "\n",
    "    "
   ]
  },
  {
   "cell_type": "code",
   "execution_count": 568,
   "metadata": {},
   "outputs": [
    {
     "data": {
      "text/plain": [
       "0.5"
      ]
     },
     "execution_count": 568,
     "metadata": {},
     "output_type": "execute_result"
    }
   ],
   "source": [
    "(epsilon - epsilon_upper)"
   ]
  },
  {
   "cell_type": "code",
   "execution_count": 569,
   "metadata": {},
   "outputs": [
    {
     "data": {
      "text/plain": [
       "-0.5"
      ]
     },
     "execution_count": 569,
     "metadata": {},
     "output_type": "execute_result"
    }
   ],
   "source": [
    "(epsilon - epsilon_lower)"
   ]
  },
  {
   "cell_type": "code",
   "execution_count": 567,
   "metadata": {},
   "outputs": [
    {
     "data": {
      "text/plain": [
       "False"
      ]
     },
     "execution_count": 567,
     "metadata": {},
     "output_type": "execute_result"
    }
   ],
   "source": [
    "(epsilon - epsilon_upper) > .001 and (epsilon - epsilon_lower) > .001"
   ]
  }
 ],
 "metadata": {
  "accelerator": "GPU",
  "colab": {
   "collapsed_sections": [],
   "name": "Hello_World.ipynb",
   "provenance": []
  },
  "kernelspec": {
   "display_name": "Python 3 (ipykernel)",
   "language": "python",
   "name": "python3"
  },
  "language_info": {
   "codemirror_mode": {
    "name": "ipython",
    "version": 3
   },
   "file_extension": ".py",
   "mimetype": "text/x-python",
   "name": "python",
   "nbconvert_exporter": "python",
   "pygments_lexer": "ipython3",
   "version": "3.9.9"
  }
 },
 "nbformat": 4,
 "nbformat_minor": 1
}
