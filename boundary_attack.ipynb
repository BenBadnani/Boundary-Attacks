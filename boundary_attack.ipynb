{
 "cells": [
  {
   "cell_type": "code",
   "execution_count": 6,
   "metadata": {},
   "outputs": [],
   "source": [
    "import torch \n",
    "from torch import nn, optim\n",
    "import torchvision \n",
    "from torchvision import datasets, transforms\n",
    "from torch.utils.data import DataLoader\n",
    "import matplotlib.pyplot as plt \n",
    "import math \n",
    "import numpy as np\n",
    "from PIL import Image\n",
    "import cv2\n",
    "from tqdm.notebook import tqdm \n",
    "from functools import partial"
   ]
  },
  {
   "cell_type": "code",
   "execution_count": 7,
   "metadata": {},
   "outputs": [],
   "source": [
    "class DigitRecognizer(nn.Module):\n",
    "    def __init__(self, input_size, hidden_layers, num_classes):\n",
    "        super(DigitRecognizer, self).__init__()\n",
    "        self.input = nn.Linear(input_size, hidden_sizes[0])\n",
    "        self.relu_0 = nn.ReLU()\n",
    "        self.hidden1 = nn.Linear(hidden_sizes[0], hidden_sizes[1])\n",
    "        self.relu_1 = nn.ReLU()\n",
    "        self.output = nn.Linear(hidden_sizes[1], num_classes)\n",
    "        \n",
    "    def forward(self, X):\n",
    "        model = self.input(X)\n",
    "        model = self.relu_0(model)\n",
    "        model = self.hidden1(model)\n",
    "        model = self.relu_1(model)\n",
    "        model = self.output(model)\n",
    "        return model "
   ]
  },
  {
   "cell_type": "code",
   "execution_count": 8,
   "metadata": {
    "scrolled": true
   },
   "outputs": [],
   "source": [
    "batch_size = 50\n",
    "#transform = transforms.Compose([transforms.ToTensor(),transforms.Normalize((0.5,), (0.5,)),])\n",
    "transform = transforms.Compose([transforms.ToTensor()])\n",
    "train_data = datasets.MNIST('./', download=True, train=True, transform=transform)\n",
    "test_data = datasets.MNIST('./', download=True, train=False, transform=transform)\n",
    "train_loader = DataLoader(train_data, batch_size=batch_size, shuffle=True, num_workers=2)\n",
    "test_loader = DataLoader(test_data, batch_size=batch_size, shuffle=False , num_workers=2)"
   ]
  },
  {
   "cell_type": "code",
   "execution_count": 13,
   "metadata": {},
   "outputs": [
    {
     "data": {
      "text/plain": [
       "DigitRecognizer(\n",
       "  (input): Linear(in_features=784, out_features=128, bias=True)\n",
       "  (relu_0): ReLU()\n",
       "  (hidden1): Linear(in_features=128, out_features=64, bias=True)\n",
       "  (relu_1): ReLU()\n",
       "  (output): Linear(in_features=64, out_features=10, bias=True)\n",
       ")"
      ]
     },
     "execution_count": 13,
     "metadata": {},
     "output_type": "execute_result"
    }
   ],
   "source": [
    "model = torch.load('digit_classifier.pt')\n",
    "model.eval()"
   ]
  },
  {
   "cell_type": "code",
   "execution_count": 112,
   "metadata": {},
   "outputs": [],
   "source": [
    "epsilon_upper = 0 \n",
    "def eval_model(model, images):\n",
    "    images = images.astype(np.float32)\n",
    "    images = torch.from_numpy(images)\n",
    "    images = images.reshape(-1, 784)\n",
    "    outputs = model(images) \n",
    "    _, test_predicted = torch.max(outputs.data,1)\n",
    "    return test_predicted.item()\n",
    "\n",
    "def is_adversarial(oracle, target_class, image): \n",
    "    if oracle(image) != target_class: \n",
    "        return True \n",
    "    return False\n",
    "\n",
    "def initial_adversarial(target_, advesarial_criterion):\n",
    "    while True: \n",
    "        random_pertubation = np.random.uniform(0,255,size = (28,28)).astype(np.float32)\n",
    "        if advesarial_criterion(random_pertubation): \n",
    "            return random_pertubation\n",
    "    \n",
    "def step_towards(target_, pertubation, epsilon):\n",
    "    pertubation -= ((pertubation - target_) * epsilon)\n",
    "    return pertubation\n",
    "    \n",
    "def orthogonal_pertubation(target_, pertubation, delta): \n",
    "    # iid random normal \n",
    "    new_pertubation = np.random.normal(0,1,size=(28,28))\n",
    "    new_pertubation /= np.linalg.norm(new_pertubation)\n",
    "    # || n_k||^2 = delta * dist(previous_adversarial, original_image), condition 2 \n",
    "    new_pertubation *= delta * np.linalg.norm(pertubation - target_)\n",
    "    new_pertubation += pertubation\n",
    "    # condition 1\n",
    "    new_pertubation = new_pertubation.clip(0,255)\n",
    "    #projecting onto sphere \n",
    "    new_pertubation -= target_\n",
    "    new_pertubation /= np.linalg.norm(new_pertubation)\n",
    "    new_pertubation *= np.linalg.norm(pertubation - target_)\n",
    "    new_pertubation += target_\n",
    "    return new_pertubation\n",
    "    \n",
    "def adaptive_delta_descent(is_adversarial_fn, side_step_fn, adversarial_img): \n",
    "    lower_delta, upper_delta = 1,0\n",
    "    delta = -1\n",
    "    while abs(delta - upper_delta) > .01: \n",
    "        delta = (lower_delta + upper_delta)/2\n",
    "        percent_adversarial = \\\n",
    "        np.mean([is_adversarial_fn( side_step_fn(adversarial_img, delta) )\\\n",
    "                 for i in range(10)])\n",
    "        if percent_adversarial >= .5:\n",
    "            lower_delta = delta #increasing delta \n",
    "        else: \n",
    "            upper_delta = delta # decreasing delta\n",
    "    return delta\n",
    "    \n",
    "def adaptive_epsilon_descent(target, is_adversarial_fn, adversarial_img): \n",
    "    global epsilon_upper\n",
    "    epsilon_lower = 1\n",
    "    epsilon_upper = 0\n",
    "    epsilon = (epsilon_lower + epsilon_upper)/2\n",
    "    while abs(epsilon - epsilon_upper) > .0001: \n",
    "        epsilon = (epsilon_lower + epsilon_upper)/2\n",
    "        new_pertubation = adversarial_img - ((adversarial_img - target) * epsilon)\n",
    "        if is_adversarial_fn(new_pertubation):\n",
    "            epsilon_upper = epsilon\n",
    "        else: \n",
    "            epsilon_lower = epsilon\n",
    "    new_pertubation = adversarial_img - ((adversarial_img - target) * epsilon_upper)\n",
    "    return new_pertubation\n",
    "    \n",
    "    \n",
    "def boundary_attack(model, oracle, target_, target_class, k):\n",
    "    global epsilon_upper\n",
    "    #create partials so to avoid passing in same parameters every time \n",
    "    # step_towards_(pertubation, epsilon)\n",
    "    step_towards_= partial(step_towards, target_) \n",
    "    # oracle_(images)\n",
    "    oracle_ = partial(oracle, model) \n",
    "    #is_adversarial_(image)\n",
    "    is_adversarial_ = partial(is_adversarial, oracle_, target_class) \n",
    "    #orthogonal_pertubation_(pertubation, delta)\n",
    "    orthogonal_pertubation_ = partial(orthogonal_pertubation, target_)\n",
    "    #adaptive_epsilon_descent_(pertubation)\n",
    "    adaptive_epsilon_descent_ = partial(adaptive_epsilon_descent, target_, is_adversarial_)\n",
    "    #adaptive_delta_descent_(pertubation)\n",
    "    adaptive_delta_descent_ = partial(adaptive_delta_descent, is_adversarial_, \\\n",
    "                                      orthogonal_pertubation_)\n",
    "    \n",
    "    # initial adversarial\n",
    "    adversarial_img = initial_adversarial(target_, oracle_)\n",
    "    \n",
    "    plt.imshow(adversarial_img, cmap=\"gray\")\n",
    "    plt.show()\n",
    "    \n",
    "    # initial descent\n",
    "    adversarial_img = adaptive_epsilon_descent_(adversarial_img)\n",
    "    \n",
    "    plt.imshow(adversarial_img, cmap=\"gray\")\n",
    "    plt.show()\n",
    "\n",
    "    count = 0\n",
    "    for i in tqdm(range(k)): \n",
    "        delta = adaptive_delta_descent_(adversarial_img)\n",
    "        #orthogonal step\n",
    "        temp_adversarial_img = orthogonal_pertubation_(adversarial_img, delta)\n",
    "        \n",
    "        # downwards step \n",
    "        temp_adversarial_img = adaptive_epsilon_descent_(temp_adversarial_img)\n",
    "\n",
    "        if is_adversarial_(temp_adversarial_img): \n",
    "            adversarial_img = temp_adversarial_img\n",
    "            print(f'{epsilon_upper=}')\n",
    "            count += 1\n",
    "    \n",
    "    plt.imshow(adversarial_img, cmap=\"gray\")\n",
    "    plt.show()\n",
    "    return adversarial_img\n",
    "    "
   ]
  },
  {
   "cell_type": "code",
   "execution_count": 113,
   "metadata": {},
   "outputs": [],
   "source": [
    "def return_target_img(class_num, num): \n",
    "    temp = []\n",
    "    for a, b in train_data: \n",
    "        if b == class_num: \n",
    "            temp.append(a)\n",
    "        if len(temp)==num: \n",
    "            return temp \n",
    "        "
   ]
  },
  {
   "cell_type": "code",
   "execution_count": 114,
   "metadata": {},
   "outputs": [],
   "source": [
    "target = return_target_img(5, 1)[0] * 255"
   ]
  },
  {
   "cell_type": "code",
   "execution_count": 115,
   "metadata": {},
   "outputs": [
    {
     "data": {
      "image/png": "[encoded data removed]",
      "text/plain": [
       "<Figure size 432x288 with 1 Axes>"
      ]
     },
     "metadata": {
      "needs_background": "light"
     },
     "output_type": "display_data"
    },
    {
     "name": "stdout",
     "output_type": "stream",
     "text": [
      "target_class=5\n"
     ]
    }
   ],
   "source": [
    "%matplotlib inline \n",
    "target = target.numpy().reshape((28,28))\n",
    "target = target.astype(np.float32)\n",
    "plt.imshow(target, cmap=\"gray\")\n",
    "plt.show()\n",
    "target_class = eval_model(model, target)\n",
    "print(f'{target_class=}')"
   ]
  },
  {
   "cell_type": "code",
   "execution_count": 116,
   "metadata": {
    "scrolled": false
   },
   "outputs": [
    {
     "data": {
      "image/png": "[encoded data removed]",
      "text/plain": [
       "<Figure size 432x288 with 1 Axes>"
      ]
     },
     "metadata": {
      "needs_background": "light"
     },
     "output_type": "display_data"
    },
    {
     "data": {
      "image/png": "[encoded data removed]",
      "text/plain": [
       "<Figure size 432x288 with 1 Axes>"
      ]
     },
     "metadata": {
      "needs_background": "light"
     },
     "output_type": "display_data"
    },
    {
     "data": {
      "application/vnd.jupyter.widget-view+json": {
       "model_id": "d31b4094425f41cc887b69eb5e2abeb4",
       "version_major": 2,
       "version_minor": 0
      },
      "text/plain": [
       "  0%|          | 0/10000 [00:00<?, ?it/s]"
      ]
     },
     "metadata": {},
     "output_type": "display_data"
    },
    {
     "name": "stdout",
     "output_type": "stream",
     "text": [
      "epsilon_upper=0.25\n",
      "epsilon_upper=0.25\n",
      "epsilon_upper=0.0625\n",
      "epsilon_upper=0.015625\n",
      "epsilon_upper=0.125\n",
      "epsilon_upper=0.125\n",
      "epsilon_upper=0.125\n",
      "epsilon_upper=0.03125\n",
      "epsilon_upper=0.03125\n",
      "epsilon_upper=0.03125\n",
      "epsilon_upper=0.0625\n",
      "epsilon_upper=0.0078125\n",
      "epsilon_upper=0.015625\n",
      "epsilon_upper=0.03125\n",
      "epsilon_upper=0.0078125\n",
      "epsilon_upper=0.015625\n",
      "epsilon_upper=0.015625\n",
      "epsilon_upper=0.0625\n",
      "epsilon_upper=0.03125\n",
      "epsilon_upper=0.03125\n",
      "epsilon_upper=0.0625\n",
      "epsilon_upper=0.0625\n",
      "epsilon_upper=0.0625\n",
      "epsilon_upper=0.0078125\n",
      "epsilon_upper=0.03125\n",
      "epsilon_upper=0.00390625\n",
      "epsilon_upper=0.03125\n",
      "epsilon_upper=0.03125\n",
      "epsilon_upper=0.001953125\n",
      "epsilon_upper=0.03125\n",
      "epsilon_upper=0.015625\n",
      "epsilon_upper=0.0078125\n",
      "epsilon_upper=0.03125\n",
      "epsilon_upper=0.00390625\n",
      "epsilon_upper=0.00390625\n",
      "epsilon_upper=0.00390625\n",
      "epsilon_upper=0.0078125\n",
      "epsilon_upper=0.0625\n",
      "epsilon_upper=0.0078125\n",
      "epsilon_upper=0.0078125\n",
      "epsilon_upper=0.015625\n",
      "epsilon_upper=0.015625\n",
      "epsilon_upper=0.015625\n",
      "epsilon_upper=0.0078125\n"
     ]
    },
    {
     "ename": "KeyboardInterrupt",
     "evalue": "",
     "output_type": "error",
     "traceback": [
      "\u001b[0;31m---------------------------------------------------------------------------\u001b[0m",
      "\u001b[0;31mAttributeError\u001b[0m                            Traceback (most recent call last)",
      "\u001b[0;32m/usr/local/lib/python3.9/site-packages/numpy/core/fromnumeric.py\u001b[0m in \u001b[0;36mndim\u001b[0;34m(a)\u001b[0m\n\u001b[1;32m   3159\u001b[0m     \u001b[0;32mtry\u001b[0m\u001b[0;34m:\u001b[0m\u001b[0;34m\u001b[0m\u001b[0;34m\u001b[0m\u001b[0m\n\u001b[0;32m-> 3160\u001b[0;31m         \u001b[0;32mreturn\u001b[0m \u001b[0ma\u001b[0m\u001b[0;34m.\u001b[0m\u001b[0mndim\u001b[0m\u001b[0;34m\u001b[0m\u001b[0;34m\u001b[0m\u001b[0m\n\u001b[0m\u001b[1;32m   3161\u001b[0m     \u001b[0;32mexcept\u001b[0m \u001b[0mAttributeError\u001b[0m\u001b[0;34m:\u001b[0m\u001b[0;34m\u001b[0m\u001b[0;34m\u001b[0m\u001b[0m\n",
      "\u001b[0;31mAttributeError\u001b[0m: 'int' object has no attribute 'ndim'",
      "\nDuring handling of the above exception, another exception occurred:\n",
      "\u001b[0;31mKeyboardInterrupt\u001b[0m                         Traceback (most recent call last)",
      "\u001b[0;32m/var/folders/73/tczzn7854g585r2p_1tbs9340000gn/T/ipykernel_35889/3395364772.py\u001b[0m in \u001b[0;36m<module>\u001b[0;34m\u001b[0m\n\u001b[0;32m----> 1\u001b[0;31m \u001b[0mfinal\u001b[0m \u001b[0;34m=\u001b[0m \u001b[0mboundary_attack\u001b[0m\u001b[0;34m(\u001b[0m\u001b[0mmodel\u001b[0m\u001b[0;34m,\u001b[0m \u001b[0meval_model\u001b[0m\u001b[0;34m,\u001b[0m \u001b[0mtarget\u001b[0m\u001b[0;34m,\u001b[0m \u001b[0mtarget_class\u001b[0m\u001b[0;34m,\u001b[0m \u001b[0;36m10000\u001b[0m\u001b[0;34m)\u001b[0m\u001b[0;34m\u001b[0m\u001b[0;34m\u001b[0m\u001b[0m\n\u001b[0m",
      "\u001b[0;32m/var/folders/73/tczzn7854g585r2p_1tbs9340000gn/T/ipykernel_35889/219309092.py\u001b[0m in \u001b[0;36mboundary_attack\u001b[0;34m(model, oracle, target_, target_class, k)\u001b[0m\n\u001b[1;32m    100\u001b[0m     \u001b[0mcount\u001b[0m \u001b[0;34m=\u001b[0m \u001b[0;36m0\u001b[0m\u001b[0;34m\u001b[0m\u001b[0;34m\u001b[0m\u001b[0m\n\u001b[1;32m    101\u001b[0m     \u001b[0;32mfor\u001b[0m \u001b[0mi\u001b[0m \u001b[0;32min\u001b[0m \u001b[0mtqdm\u001b[0m\u001b[0;34m(\u001b[0m\u001b[0mrange\u001b[0m\u001b[0;34m(\u001b[0m\u001b[0mk\u001b[0m\u001b[0;34m)\u001b[0m\u001b[0;34m)\u001b[0m\u001b[0;34m:\u001b[0m\u001b[0;34m\u001b[0m\u001b[0;34m\u001b[0m\u001b[0m\n\u001b[0;32m--> 102\u001b[0;31m         \u001b[0mdelta\u001b[0m \u001b[0;34m=\u001b[0m \u001b[0madaptive_delta_descent_\u001b[0m\u001b[0;34m(\u001b[0m\u001b[0madversarial_img\u001b[0m\u001b[0;34m)\u001b[0m\u001b[0;34m\u001b[0m\u001b[0;34m\u001b[0m\u001b[0m\n\u001b[0m\u001b[1;32m    103\u001b[0m         \u001b[0;31m#orthogonal step\u001b[0m\u001b[0;34m\u001b[0m\u001b[0;34m\u001b[0m\u001b[0m\n\u001b[1;32m    104\u001b[0m         \u001b[0mtemp_adversarial_img\u001b[0m \u001b[0;34m=\u001b[0m \u001b[0morthogonal_pertubation_\u001b[0m\u001b[0;34m(\u001b[0m\u001b[0madversarial_img\u001b[0m\u001b[0;34m,\u001b[0m \u001b[0mdelta\u001b[0m\u001b[0;34m)\u001b[0m\u001b[0;34m\u001b[0m\u001b[0;34m\u001b[0m\u001b[0m\n",
      "\u001b[0;32m/var/folders/73/tczzn7854g585r2p_1tbs9340000gn/T/ipykernel_35889/219309092.py\u001b[0m in \u001b[0;36madaptive_delta_descent\u001b[0;34m(is_adversarial_fn, side_step_fn, adversarial_img)\u001b[0m\n\u001b[1;32m     45\u001b[0m         \u001b[0mdelta\u001b[0m \u001b[0;34m=\u001b[0m \u001b[0;34m(\u001b[0m\u001b[0mlower_delta\u001b[0m \u001b[0;34m+\u001b[0m \u001b[0mupper_delta\u001b[0m\u001b[0;34m)\u001b[0m\u001b[0;34m/\u001b[0m\u001b[0;36m2\u001b[0m\u001b[0;34m\u001b[0m\u001b[0;34m\u001b[0m\u001b[0m\n\u001b[1;32m     46\u001b[0m         \u001b[0mpercent_adversarial\u001b[0m \u001b[0;34m=\u001b[0m\u001b[0;31m \u001b[0m\u001b[0;31m\\\u001b[0m\u001b[0;34m\u001b[0m\u001b[0;34m\u001b[0m\u001b[0m\n\u001b[0;32m---> 47\u001b[0;31m         np.mean([is_adversarial_fn( side_step_fn(adversarial_img, delta) )\\\n\u001b[0m\u001b[1;32m     48\u001b[0m                  for i in range(10)])\n\u001b[1;32m     49\u001b[0m         \u001b[0;32mif\u001b[0m \u001b[0mpercent_adversarial\u001b[0m \u001b[0;34m>=\u001b[0m \u001b[0;36m.5\u001b[0m\u001b[0;34m:\u001b[0m\u001b[0;34m\u001b[0m\u001b[0;34m\u001b[0m\u001b[0m\n",
      "\u001b[0;32m/var/folders/73/tczzn7854g585r2p_1tbs9340000gn/T/ipykernel_35889/219309092.py\u001b[0m in \u001b[0;36m<listcomp>\u001b[0;34m(.0)\u001b[0m\n\u001b[1;32m     45\u001b[0m         \u001b[0mdelta\u001b[0m \u001b[0;34m=\u001b[0m \u001b[0;34m(\u001b[0m\u001b[0mlower_delta\u001b[0m \u001b[0;34m+\u001b[0m \u001b[0mupper_delta\u001b[0m\u001b[0;34m)\u001b[0m\u001b[0;34m/\u001b[0m\u001b[0;36m2\u001b[0m\u001b[0;34m\u001b[0m\u001b[0;34m\u001b[0m\u001b[0m\n\u001b[1;32m     46\u001b[0m         \u001b[0mpercent_adversarial\u001b[0m \u001b[0;34m=\u001b[0m\u001b[0;31m \u001b[0m\u001b[0;31m\\\u001b[0m\u001b[0;34m\u001b[0m\u001b[0;34m\u001b[0m\u001b[0m\n\u001b[0;32m---> 47\u001b[0;31m         np.mean([is_adversarial_fn( side_step_fn(adversarial_img, delta) )\\\n\u001b[0m\u001b[1;32m     48\u001b[0m                  for i in range(10)])\n\u001b[1;32m     49\u001b[0m         \u001b[0;32mif\u001b[0m \u001b[0mpercent_adversarial\u001b[0m \u001b[0;34m>=\u001b[0m \u001b[0;36m.5\u001b[0m\u001b[0;34m:\u001b[0m\u001b[0;34m\u001b[0m\u001b[0;34m\u001b[0m\u001b[0m\n",
      "\u001b[0;32m/var/folders/73/tczzn7854g585r2p_1tbs9340000gn/T/ipykernel_35889/219309092.py\u001b[0m in \u001b[0;36morthogonal_pertubation\u001b[0;34m(target_, pertubation, delta)\u001b[0m\n\u001b[1;32m     31\u001b[0m     \u001b[0mnew_pertubation\u001b[0m \u001b[0;34m+=\u001b[0m \u001b[0mpertubation\u001b[0m\u001b[0;34m\u001b[0m\u001b[0;34m\u001b[0m\u001b[0m\n\u001b[1;32m     32\u001b[0m     \u001b[0;31m# condition 1\u001b[0m\u001b[0;34m\u001b[0m\u001b[0;34m\u001b[0m\u001b[0m\n\u001b[0;32m---> 33\u001b[0;31m     \u001b[0mnew_pertubation\u001b[0m \u001b[0;34m=\u001b[0m \u001b[0mnew_pertubation\u001b[0m\u001b[0;34m.\u001b[0m\u001b[0mclip\u001b[0m\u001b[0;34m(\u001b[0m\u001b[0;36m0\u001b[0m\u001b[0;34m,\u001b[0m\u001b[0;36m255\u001b[0m\u001b[0;34m)\u001b[0m\u001b[0;34m\u001b[0m\u001b[0;34m\u001b[0m\u001b[0m\n\u001b[0m\u001b[1;32m     34\u001b[0m     \u001b[0;31m#projecting onto sphere\u001b[0m\u001b[0;34m\u001b[0m\u001b[0;34m\u001b[0m\u001b[0m\n\u001b[1;32m     35\u001b[0m     \u001b[0mnew_pertubation\u001b[0m \u001b[0;34m-=\u001b[0m \u001b[0mtarget_\u001b[0m\u001b[0;34m\u001b[0m\u001b[0;34m\u001b[0m\u001b[0m\n",
      "\u001b[0;32m/usr/local/lib/python3.9/site-packages/numpy/core/_methods.py\u001b[0m in \u001b[0;36m_clip\u001b[0;34m(a, min, max, out, casting, **kwargs)\u001b[0m\n\u001b[1;32m    132\u001b[0m     \u001b[0;32mif\u001b[0m \u001b[0;32mnot\u001b[0m \u001b[0m_clip_dep_is_byte_swapped\u001b[0m\u001b[0;34m(\u001b[0m\u001b[0ma\u001b[0m\u001b[0;34m)\u001b[0m \u001b[0;32mand\u001b[0m \u001b[0;32mnot\u001b[0m \u001b[0m_clip_dep_is_byte_swapped\u001b[0m\u001b[0;34m(\u001b[0m\u001b[0mout\u001b[0m\u001b[0;34m)\u001b[0m\u001b[0;34m:\u001b[0m\u001b[0;34m\u001b[0m\u001b[0;34m\u001b[0m\u001b[0m\n\u001b[1;32m    133\u001b[0m         \u001b[0musing_deprecated_nan\u001b[0m \u001b[0;34m=\u001b[0m \u001b[0;32mFalse\u001b[0m\u001b[0;34m\u001b[0m\u001b[0;34m\u001b[0m\u001b[0m\n\u001b[0;32m--> 134\u001b[0;31m         \u001b[0;32mif\u001b[0m \u001b[0m_clip_dep_is_scalar_nan\u001b[0m\u001b[0;34m(\u001b[0m\u001b[0mmin\u001b[0m\u001b[0;34m)\u001b[0m\u001b[0;34m:\u001b[0m\u001b[0;34m\u001b[0m\u001b[0;34m\u001b[0m\u001b[0m\n\u001b[0m\u001b[1;32m    135\u001b[0m             \u001b[0mmin\u001b[0m \u001b[0;34m=\u001b[0m \u001b[0;34m-\u001b[0m\u001b[0mfloat\u001b[0m\u001b[0;34m(\u001b[0m\u001b[0;34m'inf'\u001b[0m\u001b[0;34m)\u001b[0m\u001b[0;34m\u001b[0m\u001b[0;34m\u001b[0m\u001b[0m\n\u001b[1;32m    136\u001b[0m             \u001b[0musing_deprecated_nan\u001b[0m \u001b[0;34m=\u001b[0m \u001b[0;32mTrue\u001b[0m\u001b[0;34m\u001b[0m\u001b[0;34m\u001b[0m\u001b[0m\n",
      "\u001b[0;32m/usr/local/lib/python3.9/site-packages/numpy/core/_methods.py\u001b[0m in \u001b[0;36m_clip_dep_is_scalar_nan\u001b[0;34m(a)\u001b[0m\n\u001b[1;32m     92\u001b[0m     \u001b[0;31m# guarded to protect circular imports\u001b[0m\u001b[0;34m\u001b[0m\u001b[0;34m\u001b[0m\u001b[0m\n\u001b[1;32m     93\u001b[0m     \u001b[0;32mfrom\u001b[0m \u001b[0mnumpy\u001b[0m\u001b[0;34m.\u001b[0m\u001b[0mcore\u001b[0m\u001b[0;34m.\u001b[0m\u001b[0mfromnumeric\u001b[0m \u001b[0;32mimport\u001b[0m \u001b[0mndim\u001b[0m\u001b[0;34m\u001b[0m\u001b[0;34m\u001b[0m\u001b[0m\n\u001b[0;32m---> 94\u001b[0;31m     \u001b[0;32mif\u001b[0m \u001b[0mndim\u001b[0m\u001b[0;34m(\u001b[0m\u001b[0ma\u001b[0m\u001b[0;34m)\u001b[0m \u001b[0;34m!=\u001b[0m \u001b[0;36m0\u001b[0m\u001b[0;34m:\u001b[0m\u001b[0;34m\u001b[0m\u001b[0;34m\u001b[0m\u001b[0m\n\u001b[0m\u001b[1;32m     95\u001b[0m         \u001b[0;32mreturn\u001b[0m \u001b[0;32mFalse\u001b[0m\u001b[0;34m\u001b[0m\u001b[0;34m\u001b[0m\u001b[0m\n\u001b[1;32m     96\u001b[0m     \u001b[0;32mtry\u001b[0m\u001b[0;34m:\u001b[0m\u001b[0;34m\u001b[0m\u001b[0;34m\u001b[0m\u001b[0m\n",
      "\u001b[0;32m<__array_function__ internals>\u001b[0m in \u001b[0;36mndim\u001b[0;34m(*args, **kwargs)\u001b[0m\n",
      "\u001b[0;32m/usr/local/lib/python3.9/site-packages/numpy/core/fromnumeric.py\u001b[0m in \u001b[0;36mndim\u001b[0;34m(a)\u001b[0m\n\u001b[1;32m   3160\u001b[0m         \u001b[0;32mreturn\u001b[0m \u001b[0ma\u001b[0m\u001b[0;34m.\u001b[0m\u001b[0mndim\u001b[0m\u001b[0;34m\u001b[0m\u001b[0;34m\u001b[0m\u001b[0m\n\u001b[1;32m   3161\u001b[0m     \u001b[0;32mexcept\u001b[0m \u001b[0mAttributeError\u001b[0m\u001b[0;34m:\u001b[0m\u001b[0;34m\u001b[0m\u001b[0;34m\u001b[0m\u001b[0m\n\u001b[0;32m-> 3162\u001b[0;31m         \u001b[0;32mreturn\u001b[0m \u001b[0masarray\u001b[0m\u001b[0;34m(\u001b[0m\u001b[0ma\u001b[0m\u001b[0;34m)\u001b[0m\u001b[0;34m.\u001b[0m\u001b[0mndim\u001b[0m\u001b[0;34m\u001b[0m\u001b[0;34m\u001b[0m\u001b[0m\n\u001b[0m\u001b[1;32m   3163\u001b[0m \u001b[0;34m\u001b[0m\u001b[0m\n\u001b[1;32m   3164\u001b[0m \u001b[0;34m\u001b[0m\u001b[0m\n",
      "\u001b[0;31mKeyboardInterrupt\u001b[0m: "
     ]
    }
   ],
   "source": [
    "final = boundary_attack(model, eval_model, target, target_class, 10000)"
   ]
  },
  {
   "cell_type": "code",
   "execution_count": 82,
   "metadata": {},
   "outputs": [
    {
     "data": {
      "image/png": "[encoded data removed]",
      "text/plain": [
       "<Figure size 432x288 with 1 Axes>"
      ]
     },
     "metadata": {
      "needs_background": "light"
     },
     "output_type": "display_data"
    },
    {
     "name": "stdout",
     "output_type": "stream",
     "text": [
      "Image class: 5\n"
     ]
    },
    {
     "data": {
      "image/png": "[encoded data removed]",
      "text/plain": [
       "<Figure size 432x288 with 1 Axes>"
      ]
     },
     "metadata": {
      "needs_background": "light"
     },
     "output_type": "display_data"
    },
    {
     "name": "stdout",
     "output_type": "stream",
     "text": [
      "Adversarial class: 3 \n",
      "\n"
     ]
    },
    {
     "data": {
      "image/png": "[encoded data removed]",
      "text/plain": [
       "<Figure size 432x288 with 1 Axes>"
      ]
     },
     "metadata": {
      "needs_background": "light"
     },
     "output_type": "display_data"
    },
    {
     "name": "stdout",
     "output_type": "stream",
     "text": [
      "L2 norm between images: 266.04512440810373\n"
     ]
    }
   ],
   "source": [
    "%matplotlib inline \n",
    "\n",
    "plt.imshow(target, cmap=\"gray\")\n",
    "plt.show()\n",
    "print(f'Image class: {eval_model(model, target)}')\n",
    "\n",
    " \n",
    "plt.imshow(final, cmap=\"gray\")\n",
    "plt.show()\n",
    "print(f'Adversarial class: {eval_model(model, final)} \\n')\n",
    "\n",
    "\n",
    "plt.imshow(final - target, cmap=\"gray\")\n",
    "plt.show()\n",
    "print(f'L2 norm between images: {np.linalg.norm(final -  target) }')\n"
   ]
  }
 ],
 "metadata": {
  "accelerator": "GPU",
  "colab": {
   "collapsed_sections": [],
   "name": "Hello_World.ipynb",
   "provenance": []
  },
  "kernelspec": {
   "display_name": "Python 3 (ipykernel)",
   "language": "python",
   "name": "python3"
  },
  "language_info": {
   "codemirror_mode": {
    "name": "ipython",
    "version": 3
   },
   "file_extension": ".py",
   "mimetype": "text/x-python",
   "name": "python",
   "nbconvert_exporter": "python",
   "pygments_lexer": "ipython3",
   "version": "3.9.9"
  }
 },
 "nbformat": 4,
 "nbformat_minor": 1
}
