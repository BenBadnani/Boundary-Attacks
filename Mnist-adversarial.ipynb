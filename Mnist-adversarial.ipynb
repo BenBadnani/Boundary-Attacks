{
 "cells": [
  {
   "cell_type": "markdown",
   "id": "revolutionary-bahamas",
   "metadata": {},
   "source": [
    "# Code for launching White-box evasion attack on NN for the Mnist Dataset"
   ]
  },
  {
   "cell_type": "markdown",
   "id": "coral-classics",
   "metadata": {},
   "source": [
    "## Generating the model"
   ]
  },
  {
   "cell_type": "markdown",
   "id": "innovative-cursor",
   "metadata": {},
   "source": [
    "### Imports"
   ]
  },
  {
   "cell_type": "code",
   "execution_count": 149,
   "id": "interstate-galaxy",
   "metadata": {},
   "outputs": [],
   "source": [
    "import tensorflow as tf\n",
    "import tensorflow_datasets as tfds\n",
    "import datetime\n",
    "import numpy as np\n",
    "import seaborn as sns\n",
    "import matplotlib.pylab as plt\n",
    "from collections import defaultdict\n",
    "import scipy as sp"
   ]
  },
  {
   "cell_type": "code",
   "execution_count": 2,
   "id": "radio-fiction",
   "metadata": {},
   "outputs": [],
   "source": [
    "%load_ext tensorboard"
   ]
  },
  {
   "cell_type": "markdown",
   "id": "opponent-bernard",
   "metadata": {},
   "source": [
    "### 1. Create input pipeline"
   ]
  },
  {
   "cell_type": "markdown",
   "id": "surrounded-valve",
   "metadata": {},
   "source": [
    "#### Load dataset"
   ]
  },
  {
   "cell_type": "code",
   "execution_count": 70,
   "id": "automatic-thompson",
   "metadata": {},
   "outputs": [],
   "source": [
    "(ds_train, ds_test), ds_info = tfds.load(\n",
    "    'mnist',\n",
    "    split=['train', 'test'],\n",
    "    shuffle_files=True,\n",
    "    as_supervised=True,\n",
    "    with_info=True,\n",
    ")"
   ]
  },
  {
   "cell_type": "code",
   "execution_count": 72,
   "id": "appropriate-dynamics",
   "metadata": {},
   "outputs": [
    {
     "data": {
      "text/plain": [
       "tfds.core.DatasetInfo(\n",
       "    name='mnist',\n",
       "    full_name='mnist/3.0.1',\n",
       "    description=\"\"\"\n",
       "    The MNIST database of handwritten digits.\n",
       "    \"\"\",\n",
       "    homepage='http://yann.lecun.com/exdb/mnist/',\n",
       "    data_path='/Users/danieldelijani/tensorflow_datasets/mnist/3.0.1',\n",
       "    download_size=11.06 MiB,\n",
       "    dataset_size=21.00 MiB,\n",
       "    features=FeaturesDict({\n",
       "        'image': Image(shape=(28, 28, 1), dtype=tf.uint8),\n",
       "        'label': ClassLabel(shape=(), dtype=tf.int64, num_classes=10),\n",
       "    }),\n",
       "    supervised_keys=('image', 'label'),\n",
       "    disable_shuffling=False,\n",
       "    splits={\n",
       "        'test': <SplitInfo num_examples=10000, num_shards=1>,\n",
       "        'train': <SplitInfo num_examples=60000, num_shards=1>,\n",
       "    },\n",
       "    citation=\"\"\"@article{lecun2010mnist,\n",
       "      title={MNIST handwritten digit database},\n",
       "      author={LeCun, Yann and Cortes, Corinna and Burges, CJ},\n",
       "      journal={ATT Labs [Online]. Available: http://yann.lecun.com/exdb/mnist},\n",
       "      volume={2},\n",
       "      year={2010}\n",
       "    }\"\"\",\n",
       ")"
      ]
     },
     "execution_count": 72,
     "metadata": {},
     "output_type": "execute_result"
    }
   ],
   "source": [
    "ds_info"
   ]
  },
  {
   "cell_type": "markdown",
   "id": "viral-message",
   "metadata": {},
   "source": [
    "#### Build a training pipeline"
   ]
  },
  {
   "cell_type": "code",
   "execution_count": 4,
   "id": "charming-hayes",
   "metadata": {},
   "outputs": [],
   "source": [
    "def normalize_img(image, label):\n",
    "  \"\"\"Normalizes images: `uint8` -> `float32`.\"\"\"\n",
    "  return tf.cast(image, tf.float32) / 255., label\n",
    "\n",
    "ds_train = ds_train.map(\n",
    "    normalize_img, num_parallel_calls=tf.data.AUTOTUNE)\n",
    "ds_train = ds_train.cache()\n",
    "ds_train = ds_train.shuffle(ds_info.splits['train'].num_examples)\n",
    "ds_train = ds_train.batch(128)\n",
    "ds_train = ds_train.prefetch(tf.data.AUTOTUNE)"
   ]
  },
  {
   "cell_type": "markdown",
   "id": "dated-duncan",
   "metadata": {},
   "source": [
    "#### Build an evaluation pipeline"
   ]
  },
  {
   "cell_type": "code",
   "execution_count": 5,
   "id": "exposed-snake",
   "metadata": {},
   "outputs": [],
   "source": [
    "ds_test = ds_test.map(\n",
    "    normalize_img, num_parallel_calls=tf.data.AUTOTUNE)\n",
    "ds_test = ds_test.batch(128)\n",
    "ds_test = ds_test.cache()\n",
    "ds_test = ds_test.prefetch(tf.data.AUTOTUNE)"
   ]
  },
  {
   "cell_type": "markdown",
   "id": "collaborative-dividend",
   "metadata": {},
   "source": [
    "### 2. Create and train the model"
   ]
  },
  {
   "cell_type": "code",
   "execution_count": 6,
   "id": "nuclear-muslim",
   "metadata": {},
   "outputs": [],
   "source": [
    "# mnist = tf.keras.datasets.mnist\n",
    "\n",
    "# (x_train, y_train),(x_test, y_test) = mnist.load_data()\n",
    "# x_train, x_test = x_train / 255.0, x_test / 255.0\n",
    "\n",
    "# def create_model():\n",
    "#     return tf.keras.models.Sequential([\n",
    "#     tf.keras.layers.Flatten(input_shape=(28, 28)),\n",
    "#     tf.keras.layers.Dense(512, activation='relu'),\n",
    "#     tf.keras.layers.Dropout(0.2),\n",
    "#     tf.keras.layers.Dense(10, activation='softmax')\n",
    "#   ])\n",
    "\n",
    "# model = create_model()\n",
    "# model.compile(optimizer='adam',\n",
    "#               loss='sparse_categorical_crossentropy',\n",
    "#               metrics=['accuracy'])\n",
    "\n",
    "# log_dir = \"logs/fit/\" + datetime.datetime.now().strftime(\"%Y%m%d-%H%M%S\")\n",
    "# tensorboard_callback = tf.keras.callbacks.TensorBoard(log_dir=log_dir, histogram_freq=1)\n",
    "\n",
    "# model.fit(x=x_train, \n",
    "#           y=y_train, \n",
    "#           epochs=5, \n",
    "#           validation_data=(x_test, y_test), \n",
    "#           callbacks=[tensorboard_callback])"
   ]
  },
  {
   "cell_type": "code",
   "execution_count": 7,
   "id": "expired-ukraine",
   "metadata": {},
   "outputs": [
    {
     "name": "stdout",
     "output_type": "stream",
     "text": [
      "Epoch 1/6\n",
      "469/469 [==============================] - 10s 8ms/step - loss: 0.3685 - sparse_categorical_accuracy: 0.8997 - val_loss: 0.1970 - val_sparse_categorical_accuracy: 0.9443\n",
      "Epoch 2/6\n",
      "469/469 [==============================] - 3s 5ms/step - loss: 0.1694 - sparse_categorical_accuracy: 0.9520 - val_loss: 0.1428 - val_sparse_categorical_accuracy: 0.9593\n",
      "Epoch 3/6\n",
      "469/469 [==============================] - 2s 5ms/step - loss: 0.1219 - sparse_categorical_accuracy: 0.9652 - val_loss: 0.1108 - val_sparse_categorical_accuracy: 0.9665\n",
      "Epoch 4/6\n",
      "469/469 [==============================] - 2s 5ms/step - loss: 0.0941 - sparse_categorical_accuracy: 0.9729 - val_loss: 0.0994 - val_sparse_categorical_accuracy: 0.9715\n",
      "Epoch 5/6\n",
      "469/469 [==============================] - 8s 16ms/step - loss: 0.0753 - sparse_categorical_accuracy: 0.9779 - val_loss: 0.0882 - val_sparse_categorical_accuracy: 0.9737\n",
      "Epoch 6/6\n",
      "469/469 [==============================] - 7s 15ms/step - loss: 0.0628 - sparse_categorical_accuracy: 0.9815 - val_loss: 0.0828 - val_sparse_categorical_accuracy: 0.9767\n"
     ]
    },
    {
     "data": {
      "text/plain": [
       "<keras.callbacks.History at 0x7ff148c4a310>"
      ]
     },
     "execution_count": 7,
     "metadata": {},
     "output_type": "execute_result"
    }
   ],
   "source": [
    "model = tf.keras.models.Sequential([\n",
    "  tf.keras.layers.Flatten(input_shape=(28, 28)),\n",
    "  tf.keras.layers.Dense(128, activation='relu'),\n",
    "  tf.keras.layers.Dense(10)\n",
    "])\n",
    "model.compile(\n",
    "    optimizer=tf.keras.optimizers.Adam(0.001),\n",
    "    loss=tf.keras.losses.SparseCategoricalCrossentropy(from_logits=True),\n",
    "    metrics=[tf.keras.metrics.SparseCategoricalAccuracy()],\n",
    ")\n",
    "\n",
    "log_dir = \"logs/fit/\" + datetime.datetime.now().strftime(\"%Y%m%d-%H%M%S\")\n",
    "tensorboard_callback = tf.keras.callbacks.TensorBoard(log_dir=log_dir, histogram_freq=1)\n",
    "\n",
    "model.fit(\n",
    "    ds_train,\n",
    "    epochs=6,\n",
    "    validation_data=ds_test,\n",
    "    callbacks=[tensorboard_callback]\n",
    ")"
   ]
  },
  {
   "cell_type": "code",
   "execution_count": 8,
   "id": "systematic-fault",
   "metadata": {},
   "outputs": [
    {
     "name": "stdout",
     "output_type": "stream",
     "text": [
      "Model: \"sequential\"\n",
      "_________________________________________________________________\n",
      " Layer (type)                Output Shape              Param #   \n",
      "=================================================================\n",
      " flatten (Flatten)           (None, 784)               0         \n",
      "                                                                 \n",
      " dense (Dense)               (None, 128)               100480    \n",
      "                                                                 \n",
      " dense_1 (Dense)             (None, 10)                1290      \n",
      "                                                                 \n",
      "=================================================================\n",
      "Total params: 101,770\n",
      "Trainable params: 101,770\n",
      "Non-trainable params: 0\n",
      "_________________________________________________________________\n"
     ]
    }
   ],
   "source": [
    "model.summary()"
   ]
  },
  {
   "cell_type": "code",
   "execution_count": 9,
   "id": "municipal-interim",
   "metadata": {},
   "outputs": [
    {
     "data": {
      "text/plain": [
       "keras.layers.core.dense.Dense"
      ]
     },
     "execution_count": 9,
     "metadata": {},
     "output_type": "execute_result"
    }
   ],
   "source": [
    "type(model.layers[1])"
   ]
  },
  {
   "cell_type": "code",
   "execution_count": 10,
   "id": "mobile-fluid",
   "metadata": {},
   "outputs": [
    {
     "ename": "NameError",
     "evalue": "name 'i' is not defined",
     "output_type": "error",
     "traceback": [
      "\u001b[0;31m---------------------------------------------------------------------------\u001b[0m",
      "\u001b[0;31mNameError\u001b[0m                                 Traceback (most recent call last)",
      "\u001b[0;32m<ipython-input-10-ecdcdb011438>\u001b[0m in \u001b[0;36m<module>\u001b[0;34m\u001b[0m\n\u001b[0;32m----> 1\u001b[0;31m \u001b[0mmodel\u001b[0m\u001b[0;34m.\u001b[0m\u001b[0mlayers\u001b[0m\u001b[0;34m[\u001b[0m\u001b[0mi\u001b[0m\u001b[0;34m]\u001b[0m\u001b[0;34m.\u001b[0m\u001b[0mbias\u001b[0m\u001b[0;34m\u001b[0m\u001b[0;34m\u001b[0m\u001b[0m\n\u001b[0m",
      "\u001b[0;31mNameError\u001b[0m: name 'i' is not defined"
     ]
    }
   ],
   "source": [
    "model.layers[i].bias"
   ]
  },
  {
   "cell_type": "markdown",
   "id": "interstate-proxy",
   "metadata": {},
   "source": [
    "## Exploring the model"
   ]
  },
  {
   "cell_type": "markdown",
   "id": "cultural-gabriel",
   "metadata": {},
   "source": [
    "### What input nodes have the most impact?"
   ]
  },
  {
   "cell_type": "code",
   "execution_count": 11,
   "id": "accurate-alert",
   "metadata": {},
   "outputs": [
    {
     "name": "stdout",
     "output_type": "stream",
     "text": [
      "dense <keras.layers.core.dense.Dense object at 0x7ff1689c5890>\n",
      "weights: <tf.Variable 'dense/kernel:0' shape=(784, 128) dtype=float32, numpy=\n",
      "array([[ 1.26797706e-03,  3.46396491e-02, -4.56183739e-02, ...,\n",
      "        -1.08852386e-02,  8.07885751e-02, -8.99872929e-03],\n",
      "       [-1.05465204e-03, -3.05284634e-02,  2.19174474e-03, ...,\n",
      "         4.05607522e-02,  1.15009919e-02,  6.38263151e-02],\n",
      "       [ 6.74769953e-02,  3.66456881e-02,  4.15829122e-02, ...,\n",
      "         5.67957759e-05, -2.99095623e-02, -3.97775695e-02],\n",
      "       ...,\n",
      "       [ 7.25986585e-02, -4.69111763e-02,  1.24897957e-02, ...,\n",
      "         5.77621162e-03, -5.96824586e-02,  7.03370199e-02],\n",
      "       [ 3.47066596e-02, -7.37524256e-02,  3.91883478e-02, ...,\n",
      "         6.93554357e-02, -1.05005205e-02,  6.87776133e-02],\n",
      "       [-3.97101156e-02,  9.59676504e-03,  6.35042712e-02, ...,\n",
      "         3.01511958e-02,  6.46227971e-02, -6.99427277e-02]], dtype=float32)>\n",
      "bias: <tf.Variable 'dense/bias:0' shape=(128,) dtype=float32, numpy=\n",
      "array([-6.67200238e-02,  3.33682187e-02,  5.14364764e-02, -4.40392867e-02,\n",
      "        1.24889359e-01,  4.20130715e-02,  4.46802974e-02, -1.22005381e-02,\n",
      "        6.66473247e-03,  1.63817108e-01,  6.49719965e-03, -9.21819657e-02,\n",
      "        1.07393004e-01, -4.24720952e-03, -1.36984643e-02,  4.92851213e-02,\n",
      "       -7.69840181e-02, -2.31424184e-03,  1.65491924e-02,  3.54104973e-02,\n",
      "        1.12708487e-01,  5.92924934e-03,  3.23987380e-02,  2.46892292e-02,\n",
      "       -4.10545571e-03,  2.26893388e-02,  1.07409470e-01,  1.16647623e-01,\n",
      "        6.11814950e-03,  7.13089406e-02, -7.41482601e-02, -3.99411656e-02,\n",
      "       -2.02893019e-02,  5.43463118e-02, -3.32466327e-02, -6.76909983e-02,\n",
      "        3.51930335e-02,  2.11259890e-02,  1.32056624e-01,  3.91491316e-02,\n",
      "       -5.02827242e-02,  3.21148820e-02,  1.49676176e-02,  7.82428309e-02,\n",
      "        9.32103992e-02,  5.22272103e-02, -9.89777371e-02,  5.78449517e-02,\n",
      "        2.84299366e-02,  1.15748793e-02, -1.70328170e-02, -2.02643164e-02,\n",
      "       -1.34366406e-02,  2.77917646e-02,  8.63073468e-02,  5.17205521e-03,\n",
      "        4.66627479e-02, -1.71903353e-02, -4.06294875e-02,  7.14716911e-02,\n",
      "        8.48323107e-03,  8.68377984e-02,  1.59135498e-02,  5.87689877e-03,\n",
      "        2.00095158e-02,  7.34314993e-02, -1.94373063e-03,  2.99071874e-02,\n",
      "        5.70316985e-02,  7.68052340e-02,  2.86125969e-02,  1.37061317e-04,\n",
      "       -3.33070345e-02,  7.62208998e-02,  9.56766680e-02, -2.45507993e-02,\n",
      "        3.60073224e-02, -1.25819426e-02, -4.13287282e-02,  1.36879519e-01,\n",
      "        3.82083915e-02,  1.61119223e-01,  7.04882201e-03,  1.24800622e-01,\n",
      "        4.60476205e-02,  1.12614045e-02, -5.67614380e-03,  5.59987910e-02,\n",
      "        1.05336688e-01,  3.97799797e-02,  7.16597494e-03,  2.84419768e-02,\n",
      "        3.84959690e-02, -8.68992507e-02,  4.53050062e-02,  1.39122233e-01,\n",
      "        3.38761136e-02,  8.75974670e-02, -4.21893224e-02,  4.99939732e-02,\n",
      "       -9.51269269e-02,  8.83954763e-02, -7.64708892e-02, -1.21360878e-02,\n",
      "       -4.07751985e-02, -4.25207429e-02, -1.03765707e-02,  1.08189583e-01,\n",
      "       -2.59457938e-02, -1.17323082e-02, -2.83919591e-02, -4.14399207e-02,\n",
      "        2.29071621e-02,  1.38780549e-02,  1.28307134e-01, -2.84372736e-02,\n",
      "        1.48860076e-02,  7.61547163e-02,  1.23589635e-02,  6.12193719e-02,\n",
      "        2.16099285e-02,  5.19089624e-02, -4.52180468e-02, -6.45295680e-02,\n",
      "        4.77286689e-02,  1.81827683e-03, -2.57664006e-02, -6.15141764e-02],\n",
      "      dtype=float32)>\n"
     ]
    }
   ],
   "source": [
    "i = 1\n",
    "layer = model.layers[i]\n",
    "weights = model.layers[i].weights[0]\n",
    "bias = model.layers[i].weights[1]\n",
    "print(layer.name, layer)\n",
    "print('weights:', weights)\n",
    "print('bias:', bias)"
   ]
  },
  {
   "cell_type": "code",
   "execution_count": 12,
   "id": "black-strengthening",
   "metadata": {},
   "outputs": [
    {
     "data": {
      "text/plain": [
       "(784,)"
      ]
     },
     "execution_count": 12,
     "metadata": {},
     "output_type": "execute_result"
    }
   ],
   "source": [
    "sum_of_weights = weights.numpy().sum(axis=1)\n",
    "sum_of_weights.shape"
   ]
  },
  {
   "cell_type": "code",
   "execution_count": 13,
   "id": "designing-competition",
   "metadata": {},
   "outputs": [],
   "source": [
    "reshaped_weights = np.reshape(sum_of_weights, (28, 28))"
   ]
  },
  {
   "cell_type": "code",
   "execution_count": 14,
   "id": "solved-wildlife",
   "metadata": {},
   "outputs": [
    {
     "data": {
      "image/png": "[encoded data removed]",
      "text/plain": [
       "<Figure size 432x288 with 2 Axes>"
      ]
     },
     "metadata": {
      "needs_background": "light"
     },
     "output_type": "display_data"
    }
   ],
   "source": [
    "ax = sns.heatmap(reshaped_weights, linewidth=.5, cmap='vlag',vmin = -4, vmax=4)\n",
    "plt.show()"
   ]
  },
  {
   "cell_type": "code",
   "execution_count": 15,
   "id": "clinical-iraqi",
   "metadata": {},
   "outputs": [
    {
     "data": {
      "image/png": "[encoded data removed]",
      "text/plain": [
       "<Figure size 432x288 with 2 Axes>"
      ]
     },
     "metadata": {
      "needs_background": "light"
     },
     "output_type": "display_data"
    }
   ],
   "source": [
    "ax = sns.heatmap(reshaped_weights, linewidth=.5, cmap=sns.diverging_palette(0, 0, l=0, as_cmap=True),vmin = -4, vmax=4)\n",
    "plt.show()"
   ]
  },
  {
   "cell_type": "markdown",
   "id": "legendary-stuart",
   "metadata": {},
   "source": [
    "### Get average of each pixel"
   ]
  },
  {
   "cell_type": "code",
   "execution_count": 97,
   "id": "insured-request",
   "metadata": {
    "collapsed": true,
    "jupyter": {
     "outputs_hidden": true
    }
   },
   "outputs": [
    {
     "data": {
      "text/plain": [
       "array([[[0.000000e+00],\n",
       "        [0.000000e+00],\n",
       "        [0.000000e+00],\n",
       "        [0.000000e+00],\n",
       "        [0.000000e+00],\n",
       "        [0.000000e+00],\n",
       "        [0.000000e+00],\n",
       "        [0.000000e+00],\n",
       "        [0.000000e+00],\n",
       "        [0.000000e+00],\n",
       "        [0.000000e+00],\n",
       "        [0.000000e+00],\n",
       "        [1.260000e+02],\n",
       "        [4.700000e+02],\n",
       "        [2.160000e+02],\n",
       "        [9.000000e+00],\n",
       "        [0.000000e+00],\n",
       "        [0.000000e+00],\n",
       "        [0.000000e+00],\n",
       "        [0.000000e+00],\n",
       "        [0.000000e+00],\n",
       "        [0.000000e+00],\n",
       "        [0.000000e+00],\n",
       "        [0.000000e+00],\n",
       "        [0.000000e+00],\n",
       "        [0.000000e+00],\n",
       "        [0.000000e+00],\n",
       "        [0.000000e+00]],\n",
       "\n",
       "       [[0.000000e+00],\n",
       "        [0.000000e+00],\n",
       "        [0.000000e+00],\n",
       "        [0.000000e+00],\n",
       "        [1.600000e+01],\n",
       "        [5.500000e+01],\n",
       "        [5.570000e+02],\n",
       "        [1.457000e+03],\n",
       "        [2.623000e+03],\n",
       "        [3.846000e+03],\n",
       "        [7.208000e+03],\n",
       "        [9.644000e+03],\n",
       "        [1.045100e+04],\n",
       "        [1.064600e+04],\n",
       "        [1.135900e+04],\n",
       "        [1.044900e+04],\n",
       "        [1.121600e+04],\n",
       "        [9.219000e+03],\n",
       "        [6.007000e+03],\n",
       "        [4.274000e+03],\n",
       "        [3.229000e+03],\n",
       "        [1.282000e+03],\n",
       "        [6.050000e+02],\n",
       "        [2.120000e+02],\n",
       "        [0.000000e+00],\n",
       "        [0.000000e+00],\n",
       "        [0.000000e+00],\n",
       "        [0.000000e+00]],\n",
       "\n",
       "       [[0.000000e+00],\n",
       "        [0.000000e+00],\n",
       "        [6.400000e+01],\n",
       "        [4.200000e+01],\n",
       "        [4.170000e+02],\n",
       "        [3.290000e+02],\n",
       "        [2.826000e+03],\n",
       "        [8.304000e+03],\n",
       "        [1.585100e+04],\n",
       "        [3.039700e+04],\n",
       "        [5.200800e+04],\n",
       "        [7.740500e+04],\n",
       "        [1.122210e+05],\n",
       "        [1.517970e+05],\n",
       "        [1.920970e+05],\n",
       "        [2.175330e+05],\n",
       "        [2.233190e+05],\n",
       "        [2.035530e+05],\n",
       "        [1.681760e+05],\n",
       "        [1.226630e+05],\n",
       "        [7.212700e+04],\n",
       "        [3.800700e+04],\n",
       "        [1.777000e+04],\n",
       "        [5.639000e+03],\n",
       "        [2.113000e+03],\n",
       "        [5.180000e+02],\n",
       "        [0.000000e+00],\n",
       "        [0.000000e+00]],\n",
       "\n",
       "       [[0.000000e+00],\n",
       "        [0.000000e+00],\n",
       "        [1.940000e+02],\n",
       "        [3.510000e+02],\n",
       "        [7.210000e+02],\n",
       "        [4.186000e+03],\n",
       "        [1.272500e+04],\n",
       "        [3.276600e+04],\n",
       "        [6.926500e+04],\n",
       "        [1.329540e+05],\n",
       "        [2.183780e+05],\n",
       "        [3.262800e+05],\n",
       "        [4.444230e+05],\n",
       "        [5.818040e+05],\n",
       "        [7.129850e+05],\n",
       "        [7.942420e+05],\n",
       "        [7.874770e+05],\n",
       "        [7.088110e+05],\n",
       "        [5.726200e+05],\n",
       "        [4.117830e+05],\n",
       "        [2.516190e+05],\n",
       "        [1.364780e+05],\n",
       "        [6.366200e+04],\n",
       "        [2.478400e+04],\n",
       "        [9.725000e+03],\n",
       "        [1.666000e+03],\n",
       "        [1.680000e+02],\n",
       "        [0.000000e+00]],\n",
       "\n",
       "       [[0.000000e+00],\n",
       "        [3.800000e+01],\n",
       "        [3.130000e+02],\n",
       "        [8.610000e+02],\n",
       "        [4.853000e+03],\n",
       "        [2.461300e+04],\n",
       "        [6.259400e+04],\n",
       "        [1.451570e+05],\n",
       "        [2.865450e+05],\n",
       "        [5.036650e+05],\n",
       "        [7.986160e+05],\n",
       "        [1.168638e+06],\n",
       "        [1.622201e+06],\n",
       "        [2.112730e+06],\n",
       "        [2.510448e+06],\n",
       "        [2.715156e+06],\n",
       "        [2.660330e+06],\n",
       "        [2.348487e+06],\n",
       "        [1.879693e+06],\n",
       "        [1.375436e+06],\n",
       "        [8.898610e+05],\n",
       "        [5.196840e+05],\n",
       "        [2.728780e+05],\n",
       "        [1.282210e+05],\n",
       "        [5.177400e+04],\n",
       "        [1.246500e+04],\n",
       "        [1.779000e+03],\n",
       "        [1.220000e+02]],\n",
       "\n",
       "       [[0.000000e+00],\n",
       "        [0.000000e+00],\n",
       "        [6.190000e+02],\n",
       "        [3.801000e+03],\n",
       "        [2.372800e+04],\n",
       "        [8.780400e+04],\n",
       "        [2.152670e+05],\n",
       "        [4.336690e+05],\n",
       "        [7.810270e+05],\n",
       "        [1.273075e+06],\n",
       "        [1.890024e+06],\n",
       "        [2.652382e+06],\n",
       "        [3.534231e+06],\n",
       "        [4.428249e+06],\n",
       "        [5.106164e+06],\n",
       "        [5.435987e+06],\n",
       "        [5.335436e+06],\n",
       "        [4.810875e+06],\n",
       "        [3.956569e+06],\n",
       "        [2.987630e+06],\n",
       "        [2.060990e+06],\n",
       "        [1.290600e+06],\n",
       "        [7.434190e+05],\n",
       "        [3.983470e+05],\n",
       "        [1.795630e+05],\n",
       "        [5.062000e+04],\n",
       "        [8.498000e+03],\n",
       "        [2.820000e+02]],\n",
       "\n",
       "       [[0.000000e+00],\n",
       "        [1.100000e+01],\n",
       "        [1.650000e+03],\n",
       "        [1.328600e+04],\n",
       "        [6.717100e+04],\n",
       "        [1.973940e+05],\n",
       "        [4.461880e+05],\n",
       "        [8.552660e+05],\n",
       "        [1.448265e+06],\n",
       "        [2.237311e+06],\n",
       "        [3.186924e+06],\n",
       "        [4.254769e+06],\n",
       "        [5.356708e+06],\n",
       "        [6.373978e+06],\n",
       "        [7.110367e+06],\n",
       "        [7.445889e+06],\n",
       "        [7.302680e+06],\n",
       "        [6.722000e+06],\n",
       "        [5.766487e+06],\n",
       "        [4.509922e+06],\n",
       "        [3.242227e+06],\n",
       "        [2.118749e+06],\n",
       "        [1.259514e+06],\n",
       "        [6.865460e+05],\n",
       "        [3.232660e+05],\n",
       "        [1.113350e+05],\n",
       "        [2.236200e+04],\n",
       "        [1.818000e+03]],\n",
       "\n",
       "       [[4.700000e+01],\n",
       "        [1.184000e+03],\n",
       "        [6.460000e+03],\n",
       "        [3.573900e+04],\n",
       "        [1.387440e+05],\n",
       "        [3.557260e+05],\n",
       "        [7.461630e+05],\n",
       "        [1.347108e+06],\n",
       "        [2.177687e+06],\n",
       "        [3.233905e+06],\n",
       "        [4.425883e+06],\n",
       "        [5.646185e+06],\n",
       "        [6.694769e+06],\n",
       "        [7.499995e+06],\n",
       "        [7.965547e+06],\n",
       "        [8.123922e+06],\n",
       "        [8.000319e+06],\n",
       "        [7.600652e+06],\n",
       "        [6.812800e+06],\n",
       "        [5.624656e+06],\n",
       "        [4.186676e+06],\n",
       "        [2.809973e+06],\n",
       "        [1.688635e+06],\n",
       "        [9.120630e+05],\n",
       "        [4.220200e+05],\n",
       "        [1.549820e+05],\n",
       "        [3.078600e+04],\n",
       "        [1.913000e+03]],\n",
       "\n",
       "       [[2.440000e+02],\n",
       "        [3.049000e+03],\n",
       "        [1.976200e+04],\n",
       "        [7.904100e+04],\n",
       "        [2.248880e+05],\n",
       "        [5.090080e+05],\n",
       "        [1.009091e+06],\n",
       "        [1.775844e+06],\n",
       "        [2.815809e+06],\n",
       "        [4.086420e+06],\n",
       "        [5.417483e+06],\n",
       "        [6.508543e+06],\n",
       "        [7.166125e+06],\n",
       "        [7.403631e+06],\n",
       "        [7.382283e+06],\n",
       "        [7.340439e+06],\n",
       "        [7.363803e+06],\n",
       "        [7.328646e+06],\n",
       "        [6.975656e+06],\n",
       "        [6.036636e+06],\n",
       "        [4.639082e+06],\n",
       "        [3.173856e+06],\n",
       "        [1.908637e+06],\n",
       "        [9.814600e+05],\n",
       "        [4.311400e+05],\n",
       "        [1.563970e+05],\n",
       "        [2.889500e+04],\n",
       "        [1.631000e+03]],\n",
       "\n",
       "       [[2.920000e+02],\n",
       "        [4.768000e+03],\n",
       "        [3.072100e+04],\n",
       "        [1.031630e+05],\n",
       "        [2.667490e+05],\n",
       "        [5.883980e+05],\n",
       "        [1.171589e+06],\n",
       "        [2.070289e+06],\n",
       "        [3.282054e+06],\n",
       "        [4.688282e+06],\n",
       "        [5.942322e+06],\n",
       "        [6.636028e+06],\n",
       "        [6.647253e+06],\n",
       "        [6.273217e+06],\n",
       "        [5.942832e+06],\n",
       "        [5.963303e+06],\n",
       "        [6.259993e+06],\n",
       "        [6.652924e+06],\n",
       "        [6.664696e+06],\n",
       "        [5.948815e+06],\n",
       "        [4.622433e+06],\n",
       "        [3.162346e+06],\n",
       "        [1.886905e+06],\n",
       "        [9.235630e+05],\n",
       "        [3.576680e+05],\n",
       "        [1.138780e+05],\n",
       "        [2.111000e+04],\n",
       "        [1.693000e+03]],\n",
       "\n",
       "       [[4.000000e+02],\n",
       "        [5.914000e+03],\n",
       "        [3.138200e+04],\n",
       "        [1.004750e+05],\n",
       "        [2.573450e+05],\n",
       "        [5.925860e+05],\n",
       "        [1.232359e+06],\n",
       "        [2.231342e+06],\n",
       "        [3.582907e+06],\n",
       "        [5.003924e+06],\n",
       "        [6.013554e+06],\n",
       "        [6.190129e+06],\n",
       "        [5.633528e+06],\n",
       "        [4.977169e+06],\n",
       "        [4.765370e+06],\n",
       "        [5.071501e+06],\n",
       "        [5.632115e+06],\n",
       "        [6.265652e+06],\n",
       "        [6.376871e+06],\n",
       "        [5.653312e+06],\n",
       "        [4.310944e+06],\n",
       "        [2.899035e+06],\n",
       "        [1.708691e+06],\n",
       "        [8.098900e+05],\n",
       "        [2.760300e+05],\n",
       "        [6.900600e+04],\n",
       "        [1.331000e+04],\n",
       "        [1.124000e+03]],\n",
       "\n",
       "       [[3.560000e+02],\n",
       "        [4.584000e+03],\n",
       "        [2.525300e+04],\n",
       "        [7.682200e+04],\n",
       "        [2.187650e+05],\n",
       "        [5.732340e+05],\n",
       "        [1.267994e+06],\n",
       "        [2.391271e+06],\n",
       "        [3.845353e+06],\n",
       "        [5.232580e+06],\n",
       "        [5.926835e+06],\n",
       "        [5.692011e+06],\n",
       "        [4.901012e+06],\n",
       "        [4.400566e+06],\n",
       "        [4.568704e+06],\n",
       "        [5.125533e+06],\n",
       "        [5.837568e+06],\n",
       "        [6.448955e+06],\n",
       "        [6.330566e+06],\n",
       "        [5.341770e+06],\n",
       "        [3.896661e+06],\n",
       "        [2.549813e+06],\n",
       "        [1.520466e+06],\n",
       "        [7.548130e+05],\n",
       "        [2.393930e+05],\n",
       "        [3.627200e+04],\n",
       "        [7.470000e+03],\n",
       "        [4.900000e+02]],\n",
       "\n",
       "       [[2.280000e+02],\n",
       "        [2.621000e+03],\n",
       "        [1.452200e+04],\n",
       "        [5.272900e+04],\n",
       "        [1.841300e+05],\n",
       "        [5.764470e+05],\n",
       "        [1.366679e+06],\n",
       "        [2.614502e+06],\n",
       "        [4.138280e+06],\n",
       "        [5.415402e+06],\n",
       "        [5.873629e+06],\n",
       "        [5.464964e+06],\n",
       "        [4.782405e+06],\n",
       "        [4.762147e+06],\n",
       "        [5.360322e+06],\n",
       "        [6.102871e+06],\n",
       "        [6.782272e+06],\n",
       "        [7.054866e+06],\n",
       "        [6.445603e+06],\n",
       "        [5.071133e+06],\n",
       "        [3.515230e+06],\n",
       "        [2.295807e+06],\n",
       "        [1.424354e+06],\n",
       "        [7.627260e+05],\n",
       "        [2.576830e+05],\n",
       "        [2.659500e+04],\n",
       "        [4.787000e+03],\n",
       "        [6.100000e+02]],\n",
       "\n",
       "       [[3.200000e+01],\n",
       "        [1.095000e+03],\n",
       "        [7.357000e+03],\n",
       "        [3.644000e+04],\n",
       "        [1.750700e+05],\n",
       "        [6.380500e+05],\n",
       "        [1.533228e+06],\n",
       "        [2.855023e+06],\n",
       "        [4.357934e+06],\n",
       "        [5.500419e+06],\n",
       "        [5.813305e+06],\n",
       "        [5.465864e+06],\n",
       "        [5.212038e+06],\n",
       "        [5.817993e+06],\n",
       "        [6.682310e+06],\n",
       "        [7.438324e+06],\n",
       "        [7.788393e+06],\n",
       "        [7.595973e+06],\n",
       "        [6.532820e+06],\n",
       "        [4.869458e+06],\n",
       "        [3.313552e+06],\n",
       "        [2.232276e+06],\n",
       "        [1.438368e+06],\n",
       "        [8.186250e+05],\n",
       "        [3.061610e+05],\n",
       "        [3.508200e+04],\n",
       "        [4.979000e+03],\n",
       "        [6.520000e+02]],\n",
       "\n",
       "       [[1.130000e+02],\n",
       "        [4.950000e+02],\n",
       "        [3.250000e+03],\n",
       "        [2.797100e+04],\n",
       "        [1.839350e+05],\n",
       "        [7.410760e+05],\n",
       "        [1.711684e+06],\n",
       "        [3.030503e+06],\n",
       "        [4.425037e+06],\n",
       "        [5.422151e+06],\n",
       "        [5.704619e+06],\n",
       "        [5.597312e+06],\n",
       "        [5.869737e+06],\n",
       "        [6.925279e+06],\n",
       "        [7.816035e+06],\n",
       "        [8.373216e+06],\n",
       "        [8.226038e+06],\n",
       "        [7.685145e+06],\n",
       "        [6.419671e+06],\n",
       "        [4.773237e+06],\n",
       "        [3.365794e+06],\n",
       "        [2.336584e+06],\n",
       "        [1.532248e+06],\n",
       "        [8.769750e+05],\n",
       "        [3.432950e+05],\n",
       "        [4.921800e+04],\n",
       "        [5.547000e+03],\n",
       "        [1.330000e+02]],\n",
       "\n",
       "       [[4.400000e+01],\n",
       "        [2.320000e+02],\n",
       "        [2.706000e+03],\n",
       "        [3.033500e+04],\n",
       "        [2.136340e+05],\n",
       "        [8.644890e+05],\n",
       "        [1.859299e+06],\n",
       "        [3.072578e+06],\n",
       "        [4.286426e+06],\n",
       "        [5.143933e+06],\n",
       "        [5.482862e+06],\n",
       "        [5.654546e+06],\n",
       "        [6.302827e+06],\n",
       "        [7.392252e+06],\n",
       "        [8.141366e+06],\n",
       "        [8.346603e+06],\n",
       "        [7.908270e+06],\n",
       "        [7.286194e+06],\n",
       "        [6.080418e+06],\n",
       "        [4.702756e+06],\n",
       "        [3.496974e+06],\n",
       "        [2.475056e+06],\n",
       "        [1.618807e+06],\n",
       "        [8.934360e+05],\n",
       "        [3.496970e+05],\n",
       "        [6.477400e+04],\n",
       "        [8.893000e+03],\n",
       "        [6.500000e+02]],\n",
       "\n",
       "       [[4.000000e+01],\n",
       "        [2.380000e+02],\n",
       "        [4.460000e+03],\n",
       "        [3.737800e+04],\n",
       "        [2.681980e+05],\n",
       "        [9.917380e+05],\n",
       "        [1.953295e+06],\n",
       "        [2.996684e+06],\n",
       "        [3.978703e+06],\n",
       "        [4.673176e+06],\n",
       "        [5.022423e+06],\n",
       "        [5.366905e+06],\n",
       "        [6.068161e+06],\n",
       "        [6.951444e+06],\n",
       "        [7.588405e+06],\n",
       "        [7.645599e+06],\n",
       "        [7.263409e+06],\n",
       "        [6.673086e+06],\n",
       "        [5.722340e+06],\n",
       "        [4.641287e+06],\n",
       "        [3.576440e+06],\n",
       "        [2.522420e+06],\n",
       "        [1.603726e+06],\n",
       "        [8.545870e+05],\n",
       "        [3.369330e+05],\n",
       "        [7.722600e+04],\n",
       "        [1.149000e+04],\n",
       "        [7.380000e+02]],\n",
       "\n",
       "       [[0.000000e+00],\n",
       "        [4.370000e+02],\n",
       "        [6.732000e+03],\n",
       "        [5.720100e+04],\n",
       "        [3.571340e+05],\n",
       "        [1.111464e+06],\n",
       "        [2.007072e+06],\n",
       "        [2.890581e+06],\n",
       "        [3.627632e+06],\n",
       "        [4.153082e+06],\n",
       "        [4.480885e+06],\n",
       "        [4.844202e+06],\n",
       "        [5.375193e+06],\n",
       "        [6.117025e+06],\n",
       "        [6.756990e+06],\n",
       "        [6.926215e+06],\n",
       "        [6.734690e+06],\n",
       "        [6.271449e+06],\n",
       "        [5.557595e+06],\n",
       "        [4.635689e+06],\n",
       "        [3.559711e+06],\n",
       "        [2.448498e+06],\n",
       "        [1.496565e+06],\n",
       "        [7.700880e+05],\n",
       "        [3.093990e+05],\n",
       "        [8.500000e+04],\n",
       "        [1.260200e+04],\n",
       "        [5.330000e+02]],\n",
       "\n",
       "       [[1.140000e+02],\n",
       "        [3.190000e+02],\n",
       "        [1.083000e+04],\n",
       "        [9.120900e+04],\n",
       "        [4.572870e+05],\n",
       "        [1.225072e+06],\n",
       "        [2.094650e+06],\n",
       "        [2.890954e+06],\n",
       "        [3.496611e+06],\n",
       "        [3.959668e+06],\n",
       "        [4.304798e+06],\n",
       "        [4.594997e+06],\n",
       "        [4.987332e+06],\n",
       "        [5.707796e+06],\n",
       "        [6.393432e+06],\n",
       "        [6.732083e+06],\n",
       "        [6.680876e+06],\n",
       "        [6.301097e+06],\n",
       "        [5.617115e+06],\n",
       "        [4.597646e+06],\n",
       "        [3.402065e+06],\n",
       "        [2.265754e+06],\n",
       "        [1.352803e+06],\n",
       "        [6.829400e+05],\n",
       "        [2.747430e+05],\n",
       "        [7.791300e+04],\n",
       "        [9.236000e+03],\n",
       "        [7.310000e+02]],\n",
       "\n",
       "       [[1.500000e+01],\n",
       "        [7.310000e+02],\n",
       "        [1.717900e+04],\n",
       "        [1.226290e+05],\n",
       "        [5.234110e+05],\n",
       "        [1.304068e+06],\n",
       "        [2.209990e+06],\n",
       "        [3.058744e+06],\n",
       "        [3.741009e+06],\n",
       "        [4.276291e+06],\n",
       "        [4.672818e+06],\n",
       "        [4.958080e+06],\n",
       "        [5.398046e+06],\n",
       "        [6.084379e+06],\n",
       "        [6.746729e+06],\n",
       "        [7.068207e+06],\n",
       "        [6.955477e+06],\n",
       "        [6.445950e+06],\n",
       "        [5.536643e+06],\n",
       "        [4.312998e+06],\n",
       "        [3.048015e+06],\n",
       "        [1.961638e+06],\n",
       "        [1.126378e+06],\n",
       "        [5.493810e+05],\n",
       "        [2.184030e+05],\n",
       "        [6.411000e+04],\n",
       "        [8.802000e+03],\n",
       "        [4.100000e+02]],\n",
       "\n",
       "       [[0.000000e+00],\n",
       "        [9.160000e+02],\n",
       "        [1.992000e+04],\n",
       "        [1.353400e+05],\n",
       "        [5.107830e+05],\n",
       "        [1.241645e+06],\n",
       "        [2.225113e+06],\n",
       "        [3.227642e+06],\n",
       "        [4.132170e+06],\n",
       "        [4.869576e+06],\n",
       "        [5.424355e+06],\n",
       "        [5.873178e+06],\n",
       "        [6.404074e+06],\n",
       "        [7.040371e+06],\n",
       "        [7.497145e+06],\n",
       "        [7.533345e+06],\n",
       "        [7.092975e+06],\n",
       "        [6.228350e+06],\n",
       "        [5.032583e+06],\n",
       "        [3.674139e+06],\n",
       "        [2.457150e+06],\n",
       "        [1.496642e+06],\n",
       "        [8.177170e+05],\n",
       "        [3.922500e+05],\n",
       "        [1.628330e+05],\n",
       "        [4.495000e+04],\n",
       "        [6.701000e+03],\n",
       "        [1.010000e+02]],\n",
       "\n",
       "       [[3.200000e+01],\n",
       "        [7.620000e+02],\n",
       "        [1.705400e+04],\n",
       "        [1.103520e+05],\n",
       "        [3.979550e+05],\n",
       "        [1.014029e+06],\n",
       "        [1.968568e+06],\n",
       "        [3.094253e+06],\n",
       "        [4.225424e+06],\n",
       "        [5.235120e+06],\n",
       "        [6.059108e+06],\n",
       "        [6.747345e+06],\n",
       "        [7.355640e+06],\n",
       "        [7.822338e+06],\n",
       "        [7.910694e+06],\n",
       "        [7.492082e+06],\n",
       "        [6.601548e+06],\n",
       "        [5.367960e+06],\n",
       "        [3.995476e+06],\n",
       "        [2.735843e+06],\n",
       "        [1.713400e+06],\n",
       "        [9.777490e+05],\n",
       "        [5.106890e+05],\n",
       "        [2.465450e+05],\n",
       "        [1.021790e+05],\n",
       "        [2.662900e+04],\n",
       "        [3.543000e+03],\n",
       "        [3.900000e+01]],\n",
       "\n",
       "       [[3.100000e+01],\n",
       "        [5.900000e+01],\n",
       "        [1.122500e+04],\n",
       "        [6.527800e+04],\n",
       "        [2.366660e+05],\n",
       "        [6.507220e+05],\n",
       "        [1.403438e+06],\n",
       "        [2.438312e+06],\n",
       "        [3.658151e+06],\n",
       "        [4.860324e+06],\n",
       "        [5.946686e+06],\n",
       "        [6.786030e+06],\n",
       "        [7.351459e+06],\n",
       "        [7.518135e+06],\n",
       "        [7.236814e+06],\n",
       "        [6.431152e+06],\n",
       "        [5.262385e+06],\n",
       "        [3.958383e+06],\n",
       "        [2.720023e+06],\n",
       "        [1.723849e+06],\n",
       "        [1.014207e+06],\n",
       "        [5.496870e+05],\n",
       "        [2.825380e+05],\n",
       "        [1.335010e+05],\n",
       "        [5.010800e+04],\n",
       "        [1.134700e+04],\n",
       "        [1.070000e+03],\n",
       "        [7.200000e+01]],\n",
       "\n",
       "       [[0.000000e+00],\n",
       "        [0.000000e+00],\n",
       "        [3.850000e+03],\n",
       "        [2.512600e+04],\n",
       "        [1.039620e+05],\n",
       "        [3.008840e+05],\n",
       "        [7.218550e+05],\n",
       "        [1.436408e+06],\n",
       "        [2.415395e+06],\n",
       "        [3.533549e+06],\n",
       "        [4.636132e+06],\n",
       "        [5.521932e+06],\n",
       "        [5.982263e+06],\n",
       "        [5.949880e+06],\n",
       "        [5.435526e+06],\n",
       "        [4.535010e+06],\n",
       "        [3.455168e+06],\n",
       "        [2.411628e+06],\n",
       "        [1.529834e+06],\n",
       "        [9.143900e+05],\n",
       "        [5.114210e+05],\n",
       "        [2.651540e+05],\n",
       "        [1.323040e+05],\n",
       "        [5.889900e+04],\n",
       "        [1.862200e+04],\n",
       "        [3.478000e+03],\n",
       "        [5.770000e+02],\n",
       "        [0.000000e+00]],\n",
       "\n",
       "       [[0.000000e+00],\n",
       "        [0.000000e+00],\n",
       "        [9.510000e+02],\n",
       "        [7.332000e+03],\n",
       "        [3.261800e+04],\n",
       "        [9.605100e+04],\n",
       "        [2.521990e+05],\n",
       "        [5.486150e+05],\n",
       "        [1.009657e+06],\n",
       "        [1.624609e+06],\n",
       "        [2.286203e+06],\n",
       "        [2.822627e+06],\n",
       "        [3.096525e+06],\n",
       "        [3.057735e+06],\n",
       "        [2.726255e+06],\n",
       "        [2.204672e+06],\n",
       "        [1.646507e+06],\n",
       "        [1.146515e+06],\n",
       "        [7.268490e+05],\n",
       "        [4.328940e+05],\n",
       "        [2.375600e+05],\n",
       "        [1.195910e+05],\n",
       "        [5.707400e+04],\n",
       "        [2.397800e+04],\n",
       "        [6.109000e+03],\n",
       "        [1.331000e+03],\n",
       "        [1.160000e+02],\n",
       "        [0.000000e+00]],\n",
       "\n",
       "       [[0.000000e+00],\n",
       "        [0.000000e+00],\n",
       "        [9.400000e+01],\n",
       "        [1.067000e+03],\n",
       "        [7.667000e+03],\n",
       "        [2.847000e+04],\n",
       "        [8.433000e+04],\n",
       "        [1.908470e+05],\n",
       "        [3.686040e+05],\n",
       "        [5.897220e+05],\n",
       "        [8.321600e+05],\n",
       "        [1.003100e+06],\n",
       "        [1.086001e+06],\n",
       "        [1.066524e+06],\n",
       "        [9.484600e+05],\n",
       "        [7.874130e+05],\n",
       "        [6.298830e+05],\n",
       "        [4.674700e+05],\n",
       "        [3.133160e+05],\n",
       "        [1.897280e+05],\n",
       "        [1.014800e+05],\n",
       "        [4.952300e+04],\n",
       "        [2.223500e+04],\n",
       "        [8.389000e+03],\n",
       "        [1.876000e+03],\n",
       "        [2.140000e+02],\n",
       "        [1.040000e+02],\n",
       "        [0.000000e+00]],\n",
       "\n",
       "       [[0.000000e+00],\n",
       "        [0.000000e+00],\n",
       "        [0.000000e+00],\n",
       "        [3.800000e+01],\n",
       "        [2.127000e+03],\n",
       "        [9.785000e+03],\n",
       "        [3.229700e+04],\n",
       "        [7.196100e+04],\n",
       "        [1.389650e+05],\n",
       "        [2.106860e+05],\n",
       "        [2.910130e+05],\n",
       "        [3.588140e+05],\n",
       "        [3.866890e+05],\n",
       "        [3.755540e+05],\n",
       "        [3.342310e+05],\n",
       "        [2.670460e+05],\n",
       "        [2.120960e+05],\n",
       "        [1.555090e+05],\n",
       "        [1.020700e+05],\n",
       "        [6.051600e+04],\n",
       "        [3.241700e+04],\n",
       "        [1.430400e+04],\n",
       "        [4.516000e+03],\n",
       "        [9.700000e+02],\n",
       "        [3.100000e+01],\n",
       "        [5.900000e+01],\n",
       "        [0.000000e+00],\n",
       "        [0.000000e+00]],\n",
       "\n",
       "       [[0.000000e+00],\n",
       "        [0.000000e+00],\n",
       "        [0.000000e+00],\n",
       "        [0.000000e+00],\n",
       "        [1.520000e+02],\n",
       "        [9.350000e+02],\n",
       "        [2.498000e+03],\n",
       "        [5.352000e+03],\n",
       "        [7.693000e+03],\n",
       "        [1.180400e+04],\n",
       "        [2.016100e+04],\n",
       "        [2.579800e+04],\n",
       "        [3.155900e+04],\n",
       "        [3.544100e+04],\n",
       "        [4.128200e+04],\n",
       "        [3.552400e+04],\n",
       "        [2.896400e+04],\n",
       "        [2.061100e+04],\n",
       "        [1.202600e+04],\n",
       "        [5.332000e+03],\n",
       "        [2.738000e+03],\n",
       "        [1.157000e+03],\n",
       "        [9.070000e+02],\n",
       "        [1.200000e+02],\n",
       "        [0.000000e+00],\n",
       "        [0.000000e+00],\n",
       "        [0.000000e+00],\n",
       "        [0.000000e+00]]])"
      ]
     },
     "execution_count": 97,
     "metadata": {},
     "output_type": "execute_result"
    }
   ],
   "source": [
    "overall_image = np.zeros((28, 28, 1))\n",
    "for image in tfds.as_numpy(ds_train):\n",
    "    im = image[0]\n",
    "    overall_image = np.add(overall_image, im)\n",
    "overall_image"
   ]
  },
  {
   "cell_type": "code",
   "execution_count": 98,
   "id": "incoming-glasgow",
   "metadata": {},
   "outputs": [
    {
     "name": "stdout",
     "output_type": "stream",
     "text": [
      "(28, 28, 1)\n",
      "(28, 28)\n"
     ]
    }
   ],
   "source": [
    "print(overall_image.shape)\n",
    "overall_image = np.squeeze(overall_image)\n",
    "print(overall_image.shape)"
   ]
  },
  {
   "cell_type": "markdown",
   "id": "abstract-madison",
   "metadata": {},
   "source": [
    "#### Visualization"
   ]
  },
  {
   "cell_type": "code",
   "execution_count": 148,
   "id": "caroline-fifth",
   "metadata": {},
   "outputs": [
    {
     "data": {
      "image/png": "[encoded data removed]",
      "text/plain": [
       "<Figure size 432x288 with 2 Axes>"
      ]
     },
     "metadata": {
      "needs_background": "light"
     },
     "output_type": "display_data"
    }
   ],
   "source": [
    "ax = sns.heatmap(overall_image, linewidth=.5)\n",
    "plt.show()"
   ]
  },
  {
   "cell_type": "markdown",
   "id": "entertaining-spider",
   "metadata": {},
   "source": [
    "#### Correlation"
   ]
  },
  {
   "cell_type": "code",
   "execution_count": 157,
   "id": "automatic-campus",
   "metadata": {},
   "outputs": [
    {
     "name": "stdout",
     "output_type": "stream",
     "text": [
      "correlation = 0.2620847623688074\n",
      "p_value = 8.824503438241546e-14\n"
     ]
    }
   ],
   "source": [
    "correlation, p_value = sp.stats.pearsonr(overall_image.flatten(), reshaped_weights.flatten())\n",
    "print(f\"correlation = {correlation}\\np_value = {p_value}\")"
   ]
  },
  {
   "cell_type": "markdown",
   "id": "broke-sunday",
   "metadata": {},
   "source": [
    "### Get standard deviation of each pixel\n",
    "for each pixel, average for 1 is ___\n",
    "                average for 2 is ___\n",
    "                ...\n",
    "                get the standard deviation for that pixel\n",
    "                plot that on heatmap\n"
   ]
  },
  {
   "cell_type": "code",
   "execution_count": 105,
   "id": "impaired-nepal",
   "metadata": {},
   "outputs": [],
   "source": [
    "average_image_hashmap = {}\n",
    "\n",
    "for datapoint in tfds.as_numpy(ds_train):\n",
    "    image = datapoint[0]\n",
    "    label = datapoint[1]\n",
    "    if label in average_image_hashmap:\n",
    "        average_image_hashmap[label] = np.add(average_image_hashmap[label], image)\n",
    "    else:\n",
    "        average_image_hashmap[label] = image\n"
   ]
  },
  {
   "cell_type": "code",
   "execution_count": 108,
   "id": "sunset-peter",
   "metadata": {},
   "outputs": [
    {
     "data": {
      "text/plain": [
       "(28, 28)"
      ]
     },
     "execution_count": 108,
     "metadata": {},
     "output_type": "execute_result"
    }
   ],
   "source": [
    "np.squeeze(average_image_hashmap[0]).shape"
   ]
  },
  {
   "cell_type": "markdown",
   "id": "alpine-democrat",
   "metadata": {},
   "source": [
    "#### Visualize averages for each number individually"
   ]
  },
  {
   "cell_type": "code",
   "execution_count": 112,
   "id": "abandoned-separation",
   "metadata": {},
   "outputs": [
    {
     "data": {
      "image/png": "[encoded data removed]",
      "text/plain": [
       "<Figure size 432x288 with 2 Axes>"
      ]
     },
     "metadata": {
      "needs_background": "light"
     },
     "output_type": "display_data"
    }
   ],
   "source": [
    "ax = sns.heatmap(np.squeeze(average_image_hashmap[0]), linewidth=.5, cmap='binary')\n",
    "plt.show()"
   ]
  },
  {
   "cell_type": "markdown",
   "id": "moral-certification",
   "metadata": {},
   "source": [
    "#### Get the standard deviation for each pixel"
   ]
  },
  {
   "cell_type": "code",
   "execution_count": 131,
   "id": "experimental-reynolds",
   "metadata": {},
   "outputs": [
    {
     "data": {
      "text/plain": [
       "(10, 28, 28)"
      ]
     },
     "execution_count": 131,
     "metadata": {},
     "output_type": "execute_result"
    }
   ],
   "source": [
    "overall_averages = np.array(list(average_image_hashmap.values())).squeeze()\n",
    "overall_averages.shape"
   ]
  },
  {
   "cell_type": "code",
   "execution_count": 143,
   "id": "moderate-dealing",
   "metadata": {},
   "outputs": [
    {
     "data": {
      "text/plain": [
       "(28, 28)"
      ]
     },
     "execution_count": 143,
     "metadata": {},
     "output_type": "execute_result"
    }
   ],
   "source": [
    "standard_deviations = np.std(overall_averages, axis=0)\n",
    "standard_deviations.shape"
   ]
  },
  {
   "cell_type": "markdown",
   "id": "certain-postage",
   "metadata": {},
   "source": [
    "#### Visualization"
   ]
  },
  {
   "cell_type": "code",
   "execution_count": 146,
   "id": "divided-interaction",
   "metadata": {},
   "outputs": [
    {
     "data": {
      "image/png": "[encoded data removed]",
      "text/plain": [
       "<Figure size 432x288 with 2 Axes>"
      ]
     },
     "metadata": {
      "needs_background": "light"
     },
     "output_type": "display_data"
    }
   ],
   "source": [
    "ax = sns.heatmap(standard_deviations, linewidth=.5, cmap='binary')\n",
    "plt.show()"
   ]
  },
  {
   "cell_type": "markdown",
   "id": "apparent-moldova",
   "metadata": {},
   "source": [
    "#### Correlation"
   ]
  },
  {
   "cell_type": "code",
   "execution_count": 159,
   "id": "invisible-electric",
   "metadata": {},
   "outputs": [
    {
     "name": "stdout",
     "output_type": "stream",
     "text": [
      "correlation = -0.06247435016342633\n",
      "p_value = 0.0804296309405518\n"
     ]
    }
   ],
   "source": [
    "correlation, p_value = sp.stats.pearsonr(standard_deviations.flatten(), reshaped_weights.flatten())\n",
    "print(f\"correlation = {correlation}\\np_value = {p_value}\")"
   ]
  },
  {
   "cell_type": "markdown",
   "id": "floral-dependence",
   "metadata": {},
   "source": [
    "### Entropy"
   ]
  },
  {
   "cell_type": "code",
   "execution_count": null,
   "id": "forced-bahamas",
   "metadata": {},
   "outputs": [],
   "source": [
    "pixel_0 = []"
   ]
  },
  {
   "cell_type": "code",
   "execution_count": 171,
   "id": "novel-identifier",
   "metadata": {},
   "outputs": [
    {
     "name": "stdout",
     "output_type": "stream",
     "text": [
      "0\n"
     ]
    }
   ],
   "source": [
    "for x in tfds.as_numpy(ds_train): \n",
    "    print(x[0][0][0].item())\n",
    "    break"
   ]
  },
  {
   "cell_type": "code",
   "execution_count": 172,
   "id": "discrete-isaac",
   "metadata": {},
   "outputs": [],
   "source": [
    "pixel_0 = [x[0][0][0].item() for x in tfds.as_numpy(ds_train)]"
   ]
  },
  {
   "cell_type": "code",
   "execution_count": 174,
   "id": "intended-shareware",
   "metadata": {},
   "outputs": [],
   "source": [
    "from collections import Counter\n",
    "\n",
    "counts = Counter(pixel_0)\n"
   ]
  },
  {
   "cell_type": "code",
   "execution_count": 176,
   "id": "exclusive-wrist",
   "metadata": {},
   "outputs": [],
   "source": [
    "test = {1: 2, 3: 4}"
   ]
  },
  {
   "cell_type": "code",
   "execution_count": 179,
   "id": "fixed-sheet",
   "metadata": {},
   "outputs": [
    {
     "ename": "TypeError",
     "evalue": "unsupported operand type(s) for /: 'list' and 'int'",
     "output_type": "error",
     "traceback": [
      "\u001b[0;31m---------------------------------------------------------------------------\u001b[0m",
      "\u001b[0;31mTypeError\u001b[0m                                 Traceback (most recent call last)",
      "\u001b[0;32m<ipython-input-179-0ccd25acdd3e>\u001b[0m in \u001b[0;36m<module>\u001b[0;34m\u001b[0m\n\u001b[0;32m----> 1\u001b[0;31m \u001b[0mlist\u001b[0m\u001b[0;34m(\u001b[0m\u001b[0mCounter\u001b[0m\u001b[0;34m(\u001b[0m\u001b[0mtest\u001b[0m\u001b[0;34m)\u001b[0m\u001b[0;34m.\u001b[0m\u001b[0mvalues\u001b[0m\u001b[0;34m(\u001b[0m\u001b[0;34m)\u001b[0m\u001b[0;34m)\u001b[0m\u001b[0;34m/\u001b[0m\u001b[0msum\u001b[0m\u001b[0;34m(\u001b[0m\u001b[0mCounter\u001b[0m\u001b[0;34m(\u001b[0m\u001b[0mtest\u001b[0m\u001b[0;34m)\u001b[0m\u001b[0;34m.\u001b[0m\u001b[0mvalues\u001b[0m\u001b[0;34m(\u001b[0m\u001b[0;34m)\u001b[0m\u001b[0;34m)\u001b[0m\u001b[0;34m\u001b[0m\u001b[0;34m\u001b[0m\u001b[0m\n\u001b[0m",
      "\u001b[0;31mTypeError\u001b[0m: unsupported operand type(s) for /: 'list' and 'int'"
     ]
    }
   ],
   "source": [
    "list(Counter(test).values())"
   ]
  },
  {
   "cell_type": "code",
   "execution_count": 175,
   "id": "standing-frederick",
   "metadata": {},
   "outputs": [
    {
     "data": {
      "text/plain": [
       "dict_values([60000])"
      ]
     },
     "execution_count": 175,
     "metadata": {},
     "output_type": "execute_result"
    }
   ],
   "source": [
    "counts.values()"
   ]
  },
  {
   "cell_type": "code",
   "execution_count": 161,
   "id": "distinguished-surface",
   "metadata": {},
   "outputs": [
    {
     "data": {
      "text/plain": [
       "<function scipy.stats._distn_infrastructure.entropy(pk, qk=None, base=None, axis=0)>"
      ]
     },
     "execution_count": 161,
     "metadata": {},
     "output_type": "execute_result"
    }
   ],
   "source": [
    "sp.stats.entropy"
   ]
  },
  {
   "cell_type": "markdown",
   "id": "beginning-crazy",
   "metadata": {},
   "source": [
    "# For Later"
   ]
  },
  {
   "cell_type": "code",
   "execution_count": 17,
   "id": "nearby-mixture",
   "metadata": {},
   "outputs": [
    {
     "data": {
      "text/html": [
       "\n",
       "      <iframe id=\"tensorboard-frame-d06df64f6830a0c\" width=\"100%\" height=\"800\" frameborder=\"0\">\n",
       "      </iframe>\n",
       "      <script>\n",
       "        (function() {\n",
       "          const frame = document.getElementById(\"tensorboard-frame-d06df64f6830a0c\");\n",
       "          const url = new URL(\"/\", window.location);\n",
       "          const port = 6007;\n",
       "          if (port) {\n",
       "            url.port = port;\n",
       "          }\n",
       "          frame.src = url;\n",
       "        })();\n",
       "      </script>\n",
       "    "
      ],
      "text/plain": [
       "<IPython.core.display.HTML object>"
      ]
     },
     "metadata": {},
     "output_type": "display_data"
    }
   ],
   "source": [
    "%tensorboard --logdir logs"
   ]
  }
 ],
 "metadata": {
  "kernelspec": {
   "display_name": "Python 3",
   "language": "python",
   "name": "python3"
  },
  "language_info": {
   "codemirror_mode": {
    "name": "ipython",
    "version": 3
   },
   "file_extension": ".py",
   "mimetype": "text/x-python",
   "name": "python",
   "nbconvert_exporter": "python",
   "pygments_lexer": "ipython3",
   "version": "3.7.4"
  }
 },
 "nbformat": 4,
 "nbformat_minor": 5
}
